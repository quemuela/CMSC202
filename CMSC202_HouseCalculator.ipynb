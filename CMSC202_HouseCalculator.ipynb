{
  "nbformat": 4,
  "nbformat_minor": 0,
  "metadata": {
    "colab": {
      "name": "CMSC202_HouseCalculator.ipynb",
      "provenance": [],
      "collapsed_sections": [],
      "authorship_tag": "ABX9TyOamjgsnGQQYp4Z5eoOHzjh",
      "include_colab_link": true
    },
    "kernelspec": {
      "name": "python3",
      "display_name": "Python 3"
    },
    "language_info": {
      "name": "python"
    }
  },
  "cells": [
    {
      "cell_type": "markdown",
      "metadata": {
        "id": "view-in-github",
        "colab_type": "text"
      },
      "source": [
        "<a href=\"https://colab.research.google.com/github/quemuela/CMSC202/blob/cmsc202/CMSC202_HouseCalculator.ipynb\" target=\"_parent\"><img src=\"https://colab.research.google.com/assets/colab-badge.svg\" alt=\"Open In Colab\"/></a>"
      ]
    },
    {
      "cell_type": "code",
      "metadata": {
        "colab": {
          "base_uri": "https://localhost:8080/"
        },
        "id": "rFz8XpRNiila",
        "outputId": "eff2d58d-e3d0-42fc-924f-10b483d5f3d4"
      },
      "source": [
        "def getPerimeter(length, width):\n",
        "  return 2 * (length + width)\n",
        "\n",
        "def getArea(length, width):\n",
        "  return length * width\n",
        "\n",
        "def getTileCount(currentArea,tileLength, tileWidth):\n",
        "  return currentArea / getArea(tileLength,tileWidth)\n",
        "\n",
        "def main():\n",
        "  length = int(input(\"Enter floor length:\"))\n",
        "  width = int(input(\"Enter floor width:\"))\n",
        "  tileLength = int(input(\"Enter floor tileLength:\"))\n",
        "  tileWidth = int(input(\"Enter floor tileWidth:\"))\n",
        "  \n",
        "  perimeter = getPerimeter(length,width)\n",
        "  area = getArea(length,width)  \n",
        "  print(perimeter)\n",
        "  print(area)\n",
        "  print(getTileCount(area,tileLength,tileWidth))\n",
        "\n",
        "main()"
      ],
      "execution_count": 7,
      "outputs": [
        {
          "output_type": "stream",
          "name": "stdout",
          "text": [
            "Enter floor length:30\n",
            "Enter floor width:30\n",
            "Enter floor tileLength:30\n",
            "Enter floor tileWidth:30\n",
            "120\n",
            "900\n",
            "1.0\n"
          ]
        }
      ]
    }
  ]
}