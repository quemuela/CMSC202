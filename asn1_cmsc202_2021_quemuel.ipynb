{
  "nbformat": 4,
  "nbformat_minor": 0,
  "metadata": {
    "colab": {
      "name": "asn1-cmsc202_2021_quemuel.ipynb",
      "provenance": [],
      "collapsed_sections": [],
      "include_colab_link": true
    },
    "kernelspec": {
      "name": "python3",
      "display_name": "Python 3"
    },
    "language_info": {
      "name": "python"
    }
  },
  "cells": [
    {
      "cell_type": "markdown",
      "metadata": {
        "id": "view-in-github",
        "colab_type": "text"
      },
      "source": [
        "<a href=\"https://colab.research.google.com/github/quemuela/CMSC202/blob/cmsc202/asn1_cmsc202_2021_quemuel.ipynb\" target=\"_parent\"><img src=\"https://colab.research.google.com/assets/colab-badge.svg\" alt=\"Open In Colab\"/></a>"
      ]
    },
    {
      "cell_type": "code",
      "metadata": {
        "id": "Ic2UWsYx7VtC"
      },
      "source": [
        ""
      ],
      "execution_count": null,
      "outputs": []
    },
    {
      "cell_type": "markdown",
      "metadata": {
        "id": "RY1VRF_QSN8p"
      },
      "source": [
        "# **Assignment 1**\n",
        "\n",
        "CMSC 202 (Principles of Programming)  1st Sem, 2021-2022\n",
        "UP Open University\n",
        "\n",
        "Due date:  Friday, October 29, 2021\n",
        "\n",
        "Name: Agile M. Quemuel\n",
        "\n",
        "Student number:96-25619"
      ]
    },
    {
      "cell_type": "markdown",
      "metadata": {
        "id": "c-OxZ_AZYI3J"
      },
      "source": [
        "**Instructions:**\n",
        "\n",
        "A. Make a copy of this Google Colab.  On the new copy, change its name to include your last name.  Share it with me (vymariano@up.edu.ph) with edit permissions.\n",
        "\n",
        "B. On the Google Colab you shared with me, write a Python program that generates a series of random integers (with lower and upper limits) and prints four statistics about the numbers in the series.  The number of integers and the lower/upper limits are inputs from the user.  An example run could look like this:\n",
        "\n",
        "(user input) How many integers are there in the series:  6\n",
        "\n",
        "(user input) What is the lower limit?  20\n",
        "\n",
        "(user input) What is the upper limit?  30\n",
        "\n",
        "(output) The statistics of these 6 numbers are:\n",
        "\n",
        "1. maximum = 29\n",
        "2. minimum = 21\n",
        "3. average value = 24.5 \n",
        "4. standard deviation = 3.2\n",
        "\n",
        "You are allowed to use only loops and conditions.  Lists, dictionaries, files, Numpy and other packages are not allowed."
      ]
    },
    {
      "cell_type": "code",
      "metadata": {
        "id": "27k1cw6hRWeQ",
        "colab": {
          "base_uri": "https://localhost:8080/"
        },
        "outputId": "ffead3e1-8e06-4b50-cbfa-292c29d484ea"
      },
      "source": [
        "import random\n",
        "import math\n",
        "\n",
        "def isZeroOrPositive(input):\n",
        "  i = int(input)\n",
        "  return i >= 0\n",
        "\n",
        "def isNumber(input):\n",
        "  stringInput = str(input)\n",
        "  for c in stringInput:\n",
        "    if not c.isdigit(): return False  \n",
        "  return True      \n",
        "\n",
        "def isValidInput(input):\n",
        "  return isNumber(input) and isZeroOrPositive(input)  \n",
        "\n",
        "def generateSeed(minInput,maxInput):\n",
        "  return int(minInput) * int(maxInput)\n",
        "\n",
        "def getUserNumberInput(userMessage,errorMessage):\n",
        "  userInput = -1\n",
        "  while(True):\n",
        "    userInput = input(userMessage)\n",
        "    if isValidInput(userInput):      \n",
        "      break    \n",
        "    print(errorMessage)\n",
        "  return userInput\n",
        "\n",
        "# simplified formula\n",
        "def getStandardDeviation2(sumOfSquares,runningSum,populationCount):  \n",
        "  return math.sqrt(abs(sumOfSquares - (runningSum ** 2/populationCount))/populationCount)\n",
        "\n",
        "# Taken from https://www.mathsisfun.com/data/standard-deviation-formulas.html\n",
        "# 1. Work out the Mean (the simple average of the numbers)\n",
        "# 2. Then for each number: subtract the Mean and square the result\n",
        "# 3. Then work out the mean of those squared differences.\n",
        "# 4. Take the square root of that and we are done!\n",
        "def getStandardDeviation(rawMean,populationCount,minInput,maxInput):    \n",
        "  runningSum = 0  \n",
        "  # important, else the randrange will be different!\n",
        "  random.seed(generateSeed(minInput,maxInput))  \n",
        "  \n",
        "  for i in range(populationCount):    \n",
        "    nextNumber = random.randrange(minInput,maxInput)\n",
        "    nextNumberMinusMean = nextNumber - rawMean    \n",
        "    squareTheResult = nextNumberMinusMean ** 2\n",
        "    runningSum = squareTheResult + runningSum  \n",
        "  \n",
        "  mean = getMean(runningSum,populationCount)\n",
        "  return math.sqrt(mean)\n",
        "\n",
        "def getMean(runningSum, populationCount):\n",
        "  return runningSum/populationCount\n",
        "\n",
        "def displayStatistics(populationCount,minInput,maxInput):\n",
        "  candidateMax = -1\n",
        "  candidateMin = -1\n",
        "  runningSum = 0    \n",
        "  runningSumSquare = 0\n",
        "\n",
        "  # important, else the randrange will be different!\n",
        "  random.seed(generateSeed(minInput,maxInput))\n",
        "\n",
        "  label = \"\\nNumbers:\"\n",
        "  for i in range(populationCount):\n",
        "    nextNumber = random.randrange(minInput,maxInput)            \n",
        "    nextNumberSquared = nextNumber ** 2\n",
        "\n",
        "    runningSum = runningSum + nextNumber    \n",
        "    runningSumSquare = runningSumSquare + nextNumberSquared\n",
        "\n",
        "    label = label + str(nextNumber) + \",\"\n",
        "    if candidateMax == -1 and candidateMin == -1:\n",
        "      candidateMax = nextNumber\n",
        "      candidateMin = nextNumber;      \n",
        "      continue  \n",
        "    \n",
        "    if nextNumber > candidateMax:\n",
        "      candidateMax = nextNumber\n",
        "    \n",
        "    if nextNumber < candidateMin:\n",
        "      candidateMin = nextNumber\n",
        "  \n",
        "  print(label)\n",
        "  mean = getMean(runningSum,populationCount)\n",
        "  stdev = getStandardDeviation(mean,populationCount,minInput,maxInput)  \n",
        "  stdev2 = getStandardDeviation2(runningSumSquare,runningSum, populationCount)\n",
        "  \n",
        "  print(\"Max:\" + str(candidateMax))\n",
        "  print(\"Min:\" + str(candidateMin))\n",
        "  print(\"Average:\" + str(mean))\n",
        "  print(\"Standard Dev:\" + str(stdev))\n",
        "  print(\"Standard Dev2:\" + str(stdev2))\n",
        "\n",
        "def main():\n",
        "  populationCount = int(getUserNumberInput(\"How many integers are there in the series:\",\"Type a positive number please\"))\n",
        "  \n",
        "  while(True):\n",
        "    minInput = int(getUserNumberInput(\"What is the lower limit?:\",\"Type a positive number please\"))\n",
        "    maxInput = int(getUserNumberInput(\"What is the upper limit?:\",\"Type a positive number please\"))\n",
        "    \n",
        "    if maxInput <= minInput:\n",
        "      print(\"\\nMaxInput greater than MinInput please; try again\")\n",
        "      continue\n",
        "\n",
        "    break;    \n",
        "\n",
        "  displayStatistics(populationCount,minInput,maxInput)\n",
        "    \n",
        "main()\n",
        "\n",
        "\n",
        "\n"
      ],
      "execution_count": 6,
      "outputs": [
        {
          "output_type": "stream",
          "name": "stdout",
          "text": [
            "How many integers are there in the series:20\n",
            "What is the lower limit?:5\n",
            "What is the upper limit?:1000\n",
            "\n",
            "Numbers:243,379,806,411,471,118,518,415,864,50,522,356,410,538,268,609,70,71,989,505,\n",
            "Max:989\n",
            "Min:50\n",
            "Average:430.65\n",
            "Standard Dev:252.9747566457966\n",
            "Standard Dev2:252.97475664579656\n"
          ]
        }
      ]
    },
    {
      "cell_type": "markdown",
      "metadata": {
        "id": "4dqiCP0ZBJm_"
      },
      "source": [
        "Hello Agile,\n",
        "\n",
        "Correctness  (60%) - 30\n",
        "\n",
        "    Try 5 integers with limits 10..20.  An error occurs.\n",
        "\n",
        "Elegance of the solution (20%) - 10\n",
        "\n",
        "    You can do all the computation in one loop.  No need to have separate loops.\n",
        "\n",
        "Documentation (20%) - 20\n",
        "\n",
        "\n",
        "Score: 60 / 100  \n",
        "\n",
        "You can debug, improve the code and submit again."
      ]
    }
  ]
}