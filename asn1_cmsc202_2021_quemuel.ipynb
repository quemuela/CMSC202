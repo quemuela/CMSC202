{
  "nbformat": 4,
  "nbformat_minor": 0,
  "metadata": {
    "colab": {
      "name": "asn1-cmsc202_2021_quemuel.ipynb",
      "provenance": [],
      "collapsed_sections": [],
      "authorship_tag": "ABX9TyPybAbd2YzevGxEEbjsnL/4",
      "include_colab_link": true
    },
    "kernelspec": {
      "name": "python3",
      "display_name": "Python 3"
    },
    "language_info": {
      "name": "python"
    }
  },
  "cells": [
    {
      "cell_type": "markdown",
      "metadata": {
        "id": "view-in-github",
        "colab_type": "text"
      },
      "source": [
        "<a href=\"https://colab.research.google.com/github/quemuela/CMSC202/blob/cmsc202/asn1_cmsc202_2021_quemuel.ipynb\" target=\"_parent\"><img src=\"https://colab.research.google.com/assets/colab-badge.svg\" alt=\"Open In Colab\"/></a>"
      ]
    },
    {
      "cell_type": "code",
      "metadata": {
        "id": "Ic2UWsYx7VtC"
      },
      "source": [
        ""
      ],
      "execution_count": null,
      "outputs": []
    },
    {
      "cell_type": "markdown",
      "metadata": {
        "id": "RY1VRF_QSN8p"
      },
      "source": [
        "# **Assignment 1**\n",
        "\n",
        "CMSC 202 (Principles of Programming)  1st Sem, 2021-2022\n",
        "UP Open University\n",
        "\n",
        "Due date:  Friday, October 29, 2021\n",
        "\n",
        "Name: \n",
        "\n",
        "Student number:"
      ]
    },
    {
      "cell_type": "markdown",
      "metadata": {
        "id": "c-OxZ_AZYI3J"
      },
      "source": [
        "**Instructions:**\n",
        "\n",
        "A. Make a copy of this Google Colab.  On the new copy, change its name to include your last name.  Share it with me (vymariano@up.edu.ph) with edit permissions.\n",
        "\n",
        "B. On the Google Colab you shared with me, write a Python program that generates a series of random integers (with lower and upper limits) and prints four statistics about the numbers in the series.  The number of integers and the lower/upper limits are inputs from the user.  An example run could look like this:\n",
        "\n",
        "(user input) How many integers are there in the series:  6\n",
        "\n",
        "(user input) What is the lower limit?  20\n",
        "\n",
        "(user input) What is the upper limit?  30\n",
        "\n",
        "(output) The statistics of these 6 numbers are:\n",
        "\n",
        "1. maximum = 29\n",
        "2. minimum = 21\n",
        "3. average value = 24.5 \n",
        "4. standard deviation = 3.2\n",
        "\n",
        "You are allowed to use only loops and conditions.  Lists, dictionaries, files, Numpy and other packages are not allowed."
      ]
    },
    {
      "cell_type": "code",
      "metadata": {
        "id": "27k1cw6hRWeQ",
        "colab": {
          "base_uri": "https://localhost:8080/"
        },
        "outputId": "12ae773b-372c-4322-bd3d-6e13513d2bbc"
      },
      "source": [
        "# For reference, this is a sample program that generates 3 random numbers with limits [10..20)\n",
        "# import random\n",
        "\n",
        "#random.seed(a=7)  # setting the seed makes sure the same series of random numbers are generated every time the code is run\n",
        "#for i in range(3):\n",
        "# print( random.randrange(10,20) )   # random numbers generated are from 10 to 19 (20 is excluded)\n",
        "import random\n",
        "import math\n",
        "\n",
        "NUMBERLABEL = \"Numbers generated:\"\n",
        "\n",
        "#1. Work out the Mean (the simple average of the numbers)\n",
        "#2. Then for each number: subtract the Mean and square the result\n",
        "#3. Then work out the mean of those squared differences.\n",
        "#4. Take the square root of that and we are done!\n",
        "# https://www.mathsisfun.com/data/standard-deviation-formulas.html\n",
        "\n",
        "def getStandardDeviation(randState,currentMean,numberCount,minInput,maxInput):    \n",
        "  runningSum = 0\n",
        "  random.setstate(randState)\n",
        "  \n",
        "  # DEBUG label = \"Numbers:\"\n",
        "  for i in range(numberCount):    \n",
        "    nextNumber = random.randrange(minInput,maxInput + 1)    \n",
        "    \n",
        "    # DEBUG to ensure that the collection coming of rand is the same.\n",
        "    # label = label + str(nextNumber) + \",\"\n",
        "\n",
        "    # Then for each number: subtract the Mean \n",
        "    nextNumberMinusMean = nextNumber - currentMean\n",
        "    # and square the result\n",
        "    squareTheResult = nextNumberMinusMean ** 2\n",
        "\n",
        "    runningSum = squareTheResult + runningSum   \n",
        "  \n",
        "  # DEBUG print(label)\n",
        "  mean = getMean(runningSum,numberCount)\n",
        "  return math.sqrt(mean)\n",
        "\n",
        "def getMean(runningSum, numberCount):\n",
        "  return runningSum/numberCount\n",
        "\n",
        "def displayStatistics(minInput,maxInput,numberCount):\n",
        "  candidateMax = -1\n",
        "  candidateMin = -1\n",
        "  runningSum = 0  \n",
        "\n",
        "  seed = int(minInput) * int(maxInput)\n",
        "  random.seed(seed)\n",
        "  # snapshot state  \n",
        "  randState = random.getstate()\n",
        "\n",
        "  label = \"Numbers:\"\n",
        "  for i in range(numberCount):\n",
        "    nextNumber = random.randrange(minInput,maxInput + 1)    \n",
        "    runningSum = runningSum + nextNumber    \n",
        "    label = label + str(nextNumber) + \",\"\n",
        "\n",
        "    if candidateMax == -1 and candidateMin == -1:\n",
        "      candidateMax = nextNumber\n",
        "      candidateMin = nextNumber;      \n",
        "      continue  \n",
        "    \n",
        "    if nextNumber > candidateMax:\n",
        "      candidateMax = nextNumber\n",
        "    \n",
        "    if nextNumber < candidateMin:\n",
        "      candidateMin = nextNumber  \n",
        "  \n",
        "  print(label)\n",
        "  mean = getMean(runningSum,numberCount)\n",
        "  stdev = getStandardDeviation(randState,mean,numberCount,minInput,maxInput)\n",
        "  print(\"Max:\" + str(candidateMax))\n",
        "  print(\"Min:\" + str(candidateMin))\n",
        "  print(\"Average:\" + str(mean))\n",
        "  print(\"Standard Dev:\" + str(stdev))\n",
        "\n",
        "displayStatistics(1,30,10)\n",
        "\n",
        "def main():\n",
        "  invalid = -1\n",
        "\n",
        "  while(invalid > 0):\n",
        "    numberCount = input(\"How many integers are there in the series:\")\n",
        "    minInput = input(\"What is the lower limit?\")\n",
        "    maxInput = input(\"What is the upper limit?\")\n",
        "\n",
        "    \n",
        "\n"
      ],
      "execution_count": 28,
      "outputs": [
        {
          "output_type": "stream",
          "name": "stdout",
          "text": [
            "Numbers:18,26,10,20,1,20,21,27,7,9,\n",
            "Numbers:18,26,10,20,1,20,21,27,7,9,\n",
            "Max:27\n",
            "Min:1\n",
            "Average:15.9\n",
            "Standard Dev:8.203048213926333\n"
          ]
        }
      ]
    }
  ]
}