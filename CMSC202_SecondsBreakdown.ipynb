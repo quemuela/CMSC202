{
  "nbformat": 4,
  "nbformat_minor": 0,
  "metadata": {
    "colab": {
      "name": "CMSC202_SecondsBreakdown.ipynb",
      "provenance": [],
      "collapsed_sections": [],
      "authorship_tag": "ABX9TyP1WnrAeYNtlQ/zEjwBUz07",
      "include_colab_link": true
    },
    "kernelspec": {
      "name": "python3",
      "display_name": "Python 3"
    },
    "language_info": {
      "name": "python"
    }
  },
  "cells": [
    {
      "cell_type": "markdown",
      "metadata": {
        "id": "view-in-github",
        "colab_type": "text"
      },
      "source": [
        "<a href=\"https://colab.research.google.com/github/quemuela/CMSC202/blob/cmsc202/CMSC202_SecondsBreakdown.ipynb\" target=\"_parent\"><img src=\"https://colab.research.google.com/assets/colab-badge.svg\" alt=\"Open In Colab\"/></a>"
      ]
    },
    {
      "cell_type": "code",
      "metadata": {
        "id": "pFWPKkGzKloi"
      },
      "source": [
        ""
      ],
      "execution_count": null,
      "outputs": []
    },
    {
      "cell_type": "code",
      "metadata": {
        "colab": {
          "base_uri": "https://localhost:8080/"
        },
        "id": "9r_r02O5HLbg",
        "outputId": "6906078a-b4f4-45d5-f030-97843c54acff"
      },
      "source": [
        "ONE_DAY = 86400\n",
        "ONE_HOUR = 3600\n",
        "ONE_MINUTE = 60\n",
        "ONE_SECOND = 1\n",
        "\n",
        "class TimeBreakdown:\n",
        "    def __init__(self, timeComponentCount, timeComponent, remainingTime):\n",
        "        self.timeComponentCount = timeComponentCount\n",
        "        self.timeComponent = timeComponent    \n",
        "        self.remainingTime = remainingTime\n",
        "\n",
        "def getTimeLeft(timeComponent,numberOfSeconds):  \n",
        "  timeCount = int(timeComponent / numberOfSeconds)\n",
        "  remainingTime = timeComponent % numberOfSeconds  \n",
        "  result = TimeBreakdown(timeCount,numberOfSeconds,remainingTime)\n",
        "  return result\n",
        "\n",
        "def process(numberOfSeconds):  \n",
        "  \n",
        "  timeComponent = {ONE_DAY: \"Day\" , ONE_HOUR: \"Hour\", ONE_MINUTE: \"Minutes\", ONE_SECOND: \"Seconds\"}\n",
        "  result = []\n",
        "\n",
        "  currentSeconds = numberOfSeconds\n",
        "  timeComponentIndex = 0\n",
        "\n",
        "  for k in timeComponent:\n",
        "    timeBreakdown = getTimeLeft(currentSeconds,k)\n",
        "    result.append(timeBreakdown)    \n",
        "    currentSeconds = timeBreakdown.remainingTime    \n",
        "\n",
        "  message = ''\n",
        "  for timeBreakdown in result:\n",
        "    if timeBreakdown.timeComponentCount == 0: continue\n",
        "    message = message + ', ' + str(timeBreakdown.timeComponentCount) + ' x ' + str(timeComponent[timeBreakdown.timeComponent])\n",
        "  \n",
        "  print(message)\n",
        "\n",
        "def main(numberOfSeconds):\n",
        "  if numberOfSeconds <= 0:\n",
        "    print('Zero or Negative Numbers are not supported')\n",
        "    return\n",
        "\n",
        "  process(numberOfSeconds)\n",
        "\n",
        "main(5000)\n",
        "\n",
        "\n",
        "\n",
        "\n",
        "\n",
        "\n",
        "\n"
      ],
      "execution_count": 30,
      "outputs": [
        {
          "output_type": "stream",
          "name": "stdout",
          "text": [
            ", 1 x Hour, 23 x Minutes, 20 x Seconds\n"
          ]
        }
      ]
    }
  ]
}