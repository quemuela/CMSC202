{
  "nbformat": 4,
  "nbformat_minor": 0,
  "metadata": {
    "colab": {
      "name": "CMSC202_PesoBreakdown.ipynb",
      "provenance": [],
      "collapsed_sections": [],
      "authorship_tag": "ABX9TyMUZ38NsJQELlIbIXdBmXdj",
      "include_colab_link": true
    },
    "kernelspec": {
      "name": "python3",
      "display_name": "Python 3"
    },
    "language_info": {
      "name": "python"
    }
  },
  "cells": [
    {
      "cell_type": "markdown",
      "metadata": {
        "id": "view-in-github",
        "colab_type": "text"
      },
      "source": [
        "<a href=\"https://colab.research.google.com/github/quemuela/CMSC202/blob/cmsc202/CMSC202_PesoBreakdown.ipynb\" target=\"_parent\"><img src=\"https://colab.research.google.com/assets/colab-badge.svg\" alt=\"Open In Colab\"/></a>"
      ]
    },
    {
      "cell_type": "code",
      "metadata": {
        "colab": {
          "base_uri": "https://localhost:8080/"
        },
        "id": "PousuTXeGeUZ",
        "outputId": "eb73c1e4-e7b0-477f-9609-cf20700f1fc3"
      },
      "source": [
        "FIVE_HUNDRED = 500\n",
        "ONE_HUNDRED = 100\n",
        "FIFTY = 50\n",
        "TWENTY = 20\n",
        "TEN = 10\n",
        "FIVE = 5\n",
        "ONE = 1\n",
        "\n",
        "class PesoBreakdown:\n",
        "    def __init__(self, billCount, bill, remainingBill):\n",
        "        self.billCount = billCount\n",
        "        self.bill = bill    \n",
        "        self.remainingBill = remainingBill\n",
        "\n",
        "def getBreakdown(amount,bill):  \n",
        "  billCount = int(amount / bill)\n",
        "  remainingBill = amount % bill\n",
        "  result = PesoBreakdown(billCount,bill,remainingBill)\n",
        "  return result\n",
        "\n",
        "def process(moneyIn):  \n",
        "  \n",
        "  bills = [FIVE_HUNDRED,ONE_HUNDRED,FIFTY,TWENTY,TEN,FIVE,ONE]\n",
        "  result = []\n",
        "\n",
        "  moneyInHand = moneyIn\n",
        "  billsIndex = 0\n",
        "\n",
        "  for bill in bills:\n",
        "    pesoBreakdown = getBreakdown(moneyInHand,bill)\n",
        "    result.append(pesoBreakdown)    \n",
        "    moneyInHand = pesoBreakdown.remainingBill    \n",
        "\n",
        "  message = ''\n",
        "  for breakdown in result:\n",
        "    if breakdown.billCount == 0: continue\n",
        "    message = message + ', ' + str(breakdown.billCount) + ' x ' + str(breakdown.bill)\n",
        "  \n",
        "  print(message)\n",
        "\n",
        "def main(moneyIn):\n",
        "  if moneyIn <= 0:\n",
        "    print('Zero or Negative Numbers are not supported')\n",
        "    return\n",
        "\n",
        "  process(moneyIn)\n",
        "\n",
        "main(873)\n",
        "main(8745)\n",
        "main(121)\n",
        "main(-1000)\n",
        "\n",
        "\n",
        "\n",
        "\n",
        "\n",
        "\n",
        "\n"
      ],
      "execution_count": 3,
      "outputs": [
        {
          "output_type": "stream",
          "name": "stdout",
          "text": [
            ", 1 x 500, 3 x 100, 1 x 50, 1 x 20, 3 x 1\n",
            ", 17 x 500, 2 x 100, 2 x 20, 1 x 5\n",
            ", 1 x 100, 1 x 20, 1 x 1\n",
            "Zero or Negative Numbers are not supported\n"
          ]
        }
      ]
    },
    {
      "cell_type": "code",
      "metadata": {
        "id": "-RsvJEkxSlql"
      },
      "source": [
        "N"
      ],
      "execution_count": null,
      "outputs": []
    }
  ]
}