{
  "nbformat": 4,
  "nbformat_minor": 0,
  "metadata": {
    "colab": {
      "name": "CMSC202_Calendar.ipynb",
      "provenance": [],
      "authorship_tag": "ABX9TyNRRR4B9O5jn7j6l6qhBbjx",
      "include_colab_link": true
    },
    "kernelspec": {
      "name": "python3",
      "display_name": "Python 3"
    },
    "language_info": {
      "name": "python"
    }
  },
  "cells": [
    {
      "cell_type": "markdown",
      "metadata": {
        "id": "view-in-github",
        "colab_type": "text"
      },
      "source": [
        "<a href=\"https://colab.research.google.com/github/quemuela/CMSC202/blob/cmsc202/CMSC202_Calendar.ipynb\" target=\"_parent\"><img src=\"https://colab.research.google.com/assets/colab-badge.svg\" alt=\"Open In Colab\"/></a>"
      ]
    },
    {
      "cell_type": "code",
      "metadata": {
        "colab": {
          "base_uri": "https://localhost:8080/"
        },
        "id": "1iqqihQXRyfC",
        "outputId": "62762974-c5ef-4ca9-f614-db20fd0d8280"
      },
      "source": [
        "SUNDAY = \"SUN\"\n",
        "MONDAY = \"MON\"\n",
        "TUESDAY = \"TUES\"\n",
        "WEDNESDAY = \"WED\"\n",
        "THURSDAY = \"THUR\"\n",
        "FRIDAY = \"FRI\"\n",
        "SATURDAY = \"SAT\"\n",
        "VALID_CALENDARDAYS = [28,30,31]\n",
        "\n",
        "def writeCalendarHeader(days = []):\n",
        "  header = \",\".join(days)\n",
        "  print(header)\n",
        "\n",
        "def writeNextCalendarWeek(daysCount,daysOfWeekStart,startDay,lastDayForTheWeek):\n",
        "  \n",
        "  daysPerWeek= []\n",
        "  if daysOfWeekStart != 0:    \n",
        "    for x in range(daysOfWeekStart):\n",
        "      daysPerWeek.append(\"*\")\n",
        "\n",
        "  lastDay = 0  \n",
        "  for y in range(int(startDay),lastDayForTheWeek + 1):\n",
        "    lastDay = y    \n",
        "    daysPerWeek.append(str(lastDay))\n",
        "    if lastDay == daysCount:\n",
        "      print(\",\".join(daysPerWeek))  \n",
        "      return;     \n",
        "  \n",
        "  print(\",\".join(daysPerWeek))\n",
        "  writeNextCalendarWeek(daysCount,0,lastDay + 1,lastDay + 7)\n",
        "  \n",
        "\n",
        "def writeCalendarDays(daysCount,daysOfWeekStart):    \n",
        "  writeNextCalendarWeek(daysCount,daysOfWeekStart,1,7 - daysOfWeekStart)\n",
        "  \n",
        "\n",
        "def buildCalendar(daysCount,dayOfWeekStart):  \n",
        "  days = [SUNDAY,MONDAY,TUESDAY,WEDNESDAY,THURSDAY,FRIDAY,SATURDAY]  \n",
        "  writeCalendarHeader(days)\n",
        "  writeCalendarDays(daysCount,dayOfWeekStart)\n",
        "\n",
        "\n",
        "def main():\n",
        "  invalid = -1\n",
        "  daysCount = -1\n",
        "  daysOfWeekStart = -1  \n",
        "\n",
        "  while(invalid):\n",
        "    daysCount = input(\"How many days?:\")\n",
        "    daysOfWeekStart = input(\"Month starting day (0 - 6; 0 Sunday - 6 Saturday)\")\n",
        "\n",
        "    daysCount = int(daysCount)\n",
        "    daysOfWeekStart = int(daysOfWeekStart)\n",
        "\n",
        "    validDays = daysCount in VALID_CALENDARDAYS\n",
        "    validDaysOfWeekStart = daysOfWeekStart >= 0 and daysOfWeekStart <= 6 \n",
        "    \n",
        "    if validDays and validDaysOfWeekStart:\n",
        "      break\n",
        "\n",
        "  buildCalendar(daysCount,daysOfWeekStart)\n",
        "\n",
        "main()\n",
        "\n",
        "\n",
        "\n",
        "\n",
        "\n",
        "\n",
        "\n",
        "\n",
        "\n"
      ],
      "execution_count": 118,
      "outputs": [
        {
          "output_type": "stream",
          "name": "stdout",
          "text": [
            "How many days?:29\n",
            "Month starting day (0 - 6; 0 Sunday - 6 Saturday)0\n",
            "How many days?:31\n",
            "Month starting day (0 - 6; 0 Sunday - 6 Saturday)0\n",
            "SUN,MON,TUES,WED,THUR,FRI,SAT\n",
            "1,2,3,4,5,6,7\n",
            "8,9,10,11,12,13,14\n",
            "15,16,17,18,19,20,21\n",
            "22,23,24,25,26,27,28\n",
            "29,30,31\n"
          ]
        }
      ]
    }
  ]
}