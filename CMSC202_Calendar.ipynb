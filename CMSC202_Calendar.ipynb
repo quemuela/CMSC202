{
  "nbformat": 4,
  "nbformat_minor": 0,
  "metadata": {
    "colab": {
      "name": "CMSC202_Calendar.ipynb",
      "provenance": [],
      "collapsed_sections": [],
      "authorship_tag": "ABX9TyPANHaq/DefeCndusPbWT87",
      "include_colab_link": true
    },
    "kernelspec": {
      "name": "python3",
      "display_name": "Python 3"
    },
    "language_info": {
      "name": "python"
    }
  },
  "cells": [
    {
      "cell_type": "markdown",
      "metadata": {
        "id": "view-in-github",
        "colab_type": "text"
      },
      "source": [
        "<a href=\"https://colab.research.google.com/github/quemuela/CMSC202/blob/cmsc202/CMSC202_Calendar.ipynb\" target=\"_parent\"><img src=\"https://colab.research.google.com/assets/colab-badge.svg\" alt=\"Open In Colab\"/></a>"
      ]
    },
    {
      "cell_type": "code",
      "metadata": {
        "colab": {
          "base_uri": "https://localhost:8080/"
        },
        "id": "1iqqihQXRyfC",
        "outputId": "5f013bd3-c4f2-44e9-a940-6ebbb151b311"
      },
      "source": [
        "SUNDAY = \"SUN\"\n",
        "MONDAY = \"MON\"\n",
        "TUESDAY = \"TUES\"\n",
        "WEDNESDAY = \"WED\"\n",
        "THURSDAY = \"THUR\"\n",
        "FRIDAY = \"FRI\"\n",
        "SATURDAY = \"SAT\"\n",
        "VALID_CALENDARDAYS = [28,30,31]\n",
        "\n",
        "def writeCalendarHeader(days = []):\n",
        "  header = \"\\t\".join(days)\n",
        "  print(header)\n",
        "\n",
        "def writeNextCalendarWeek(daysCount,daysOfWeekStart,startDay,lastDayForTheWeek):\n",
        "  \n",
        "  daysPerWeek= []\n",
        "  if daysOfWeekStart != 0:    \n",
        "    for x in range(daysOfWeekStart):\n",
        "      daysPerWeek.append(\"\")\n",
        "\n",
        "  lastDay = 0  \n",
        "  for y in range(int(startDay),lastDayForTheWeek + 1):\n",
        "    lastDay = y    \n",
        "    daysPerWeek.append(str(lastDay))\n",
        "    if lastDay == daysCount:\n",
        "      print(\"\\t\".join(daysPerWeek))  \n",
        "      return;     \n",
        "  \n",
        "  print(\"\\t\".join(daysPerWeek))\n",
        "  writeNextCalendarWeek(daysCount,0,lastDay + 1,lastDay + 7)\n",
        "  \n",
        "\n",
        "def writeCalendarDays(daysCount,daysOfWeekStart):    \n",
        "  writeNextCalendarWeek(daysCount,daysOfWeekStart,1,7 - daysOfWeekStart)\n",
        "  \n",
        "\n",
        "def buildCalendar(daysCount,dayOfWeekStart):  \n",
        "  days = [SUNDAY,MONDAY,TUESDAY,WEDNESDAY,THURSDAY,FRIDAY,SATURDAY]  \n",
        "  writeCalendarHeader(days)\n",
        "  writeCalendarDays(daysCount,dayOfWeekStart)\n",
        "\n",
        "\n",
        "def main():\n",
        "  invalid = -1\n",
        "  daysCount = -1\n",
        "  daysOfWeekStart = -1  \n",
        "\n",
        "  while(invalid):\n",
        "    daysCount = input(\"How many days?:\")\n",
        "    daysOfWeekStart = input(\"Month starting day (0 - 6; 0 Sunday - 6 Saturday)\")\n",
        "\n",
        "    daysCount = int(daysCount)\n",
        "    daysOfWeekStart = int(daysOfWeekStart)\n",
        "\n",
        "    validDays = daysCount in VALID_CALENDARDAYS\n",
        "    validDaysOfWeekStart = daysOfWeekStart >= 0 and daysOfWeekStart <= 6 \n",
        "    \n",
        "    if validDays and validDaysOfWeekStart:\n",
        "      break\n",
        "    \n",
        "    print(\"Try again\")\n",
        "\n",
        "  buildCalendar(daysCount,daysOfWeekStart)\n",
        "\n",
        "main()\n",
        "\n",
        "\n",
        "\n",
        "\n",
        "\n",
        "\n",
        "\n",
        "\n",
        "\n"
      ],
      "execution_count": 121,
      "outputs": [
        {
          "output_type": "stream",
          "name": "stdout",
          "text": [
            "How many days?:31\n",
            "Month starting day (0 - 6; 0 Sunday - 6 Saturday)6\n",
            "SUN\tMON\tTUES\tWED\tTHUR\tFRI\tSAT\n",
            "\t\t\t\t\t\t1\n",
            "2\t3\t4\t5\t6\t7\t8\n",
            "9\t10\t11\t12\t13\t14\t15\n",
            "16\t17\t18\t19\t20\t21\t22\n",
            "23\t24\t25\t26\t27\t28\t29\n",
            "30\t31\n"
          ]
        }
      ]
    }
  ]
}