{
  "nbformat": 4,
  "nbformat_minor": 0,
  "metadata": {
    "colab": {
      "name": "CMSC202_CashRegister.ipynb",
      "provenance": [],
      "collapsed_sections": [],
      "authorship_tag": "ABX9TyOCbWVQqmSWKNR8JcTEe77V",
      "include_colab_link": true
    },
    "kernelspec": {
      "name": "python3",
      "display_name": "Python 3"
    },
    "language_info": {
      "name": "python"
    }
  },
  "cells": [
    {
      "cell_type": "markdown",
      "metadata": {
        "id": "view-in-github",
        "colab_type": "text"
      },
      "source": [
        "<a href=\"https://colab.research.google.com/github/quemuela/CMSC202/blob/cmsc202/CMSC202_CashRegister.ipynb\" target=\"_parent\"><img src=\"https://colab.research.google.com/assets/colab-badge.svg\" alt=\"Open In Colab\"/></a>"
      ]
    },
    {
      "cell_type": "code",
      "metadata": {
        "colab": {
          "base_uri": "https://localhost:8080/"
        },
        "id": "-0kmtGpULlhz",
        "outputId": "d33b330f-3389-4466-a523-1424519e4579"
      },
      "source": [
        "def process():  \n",
        "  balance = 0\n",
        "  acceptItem = 0\n",
        "\n",
        "  while acceptItem != -1:\n",
        "    itemPrice = input(\"Enter item price (-1) to exit\")\n",
        "\n",
        "    if itemPrice == \"-1\":\n",
        "      acceptItem = -1      \n",
        "      break\n",
        "\n",
        "    balance =  balance + int(itemPrice)\n",
        "\n",
        "  print(\"Total Amount:\" + str(balance))\n",
        "  payment = input(\"Enter payment\")    \n",
        "\n",
        "  while balance > 0:\n",
        "    balance = balance - int(payment)\n",
        "    if balance != 0:\n",
        "      print(\"You still owe:\" + str(balance))\n",
        "      payment = input(\"Enter payment\")\n",
        "  \n",
        "  print(\"Thank you for shopping\")\n",
        "  \n",
        "process()\n",
        "  \n"
      ],
      "execution_count": 19,
      "outputs": [
        {
          "output_type": "stream",
          "name": "stdout",
          "text": [
            "Enter item price (-1) to exit100\n",
            "Enter item price (-1) to exit50\n",
            "Enter item price (-1) to exit30\n",
            "Enter item price (-1) to exit-1\n",
            "Total Amount:180\n",
            "Enter payment100\n",
            "You still owe:80\n",
            "Enter payment20\n",
            "You still owe:60\n",
            "Enter payment15\n",
            "You still owe:45\n",
            "Enter payment45\n",
            "Thank you for shopping\n"
          ]
        }
      ]
    },
    {
      "cell_type": "code",
      "metadata": {
        "id": "y_6AfWV1QJkN"
      },
      "source": [
        ""
      ],
      "execution_count": null,
      "outputs": []
    }
  ]
}