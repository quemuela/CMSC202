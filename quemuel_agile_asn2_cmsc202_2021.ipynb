{
  "nbformat": 4,
  "nbformat_minor": 0,
  "metadata": {
    "colab": {
      "name": "asn2-cmsc202_2021.ipynb",
      "provenance": [],
      "include_colab_link": true
    },
    "kernelspec": {
      "name": "python3",
      "display_name": "Python 3"
    },
    "language_info": {
      "name": "python"
    }
  },
  "cells": [
    {
      "cell_type": "markdown",
      "metadata": {
        "id": "view-in-github",
        "colab_type": "text"
      },
      "source": [
        "<a href=\"https://colab.research.google.com/github/quemuela/CMSC202/blob/cmsc202/quemuel_agile_asn2_cmsc202_2021.ipynb\" target=\"_parent\"><img src=\"https://colab.research.google.com/assets/colab-badge.svg\" alt=\"Open In Colab\"/></a>"
      ]
    },
    {
      "cell_type": "markdown",
      "metadata": {
        "id": "Tn5FGFhKHzKc"
      },
      "source": [
        "# **Assignment 2**\n",
        "\n",
        "CMSC 202 (Principles of Programming)  1st Sem, 2021-2022\n",
        "UP Open University\n",
        "\n",
        "Due date:  November 29, 2021\n",
        "\n",
        "\n",
        "**Name:** \n",
        "\n",
        "**Student number:**\n",
        "\n",
        "Instructions 🧑\n",
        "\n",
        "\n",
        "*   Make a copy of this Colab\n",
        "*   On your own copy, add your name to the title of the Colab\n",
        "*   Share it with Sir Vlad (vymariano@up.edu.ph) **with editing permission**\n",
        "\n",
        "\n",
        "Our ColabTurtle reference is https://github.com/tolgaatam/ColabTurtle"
      ]
    },
    {
      "cell_type": "code",
      "metadata": {
        "id": "D_oLHFuWHucu"
      },
      "source": [
        "# install the ColabTurtle library\n",
        "!pip3 install ColabTurtle"
      ],
      "execution_count": null,
      "outputs": []
    },
    {
      "cell_type": "code",
      "metadata": {
        "id": "bw9fegbhM7cf"
      },
      "source": [
        "# import the necessary functions\n",
        "from ColabTurtle.Turtle import *\n",
        "import random"
      ],
      "execution_count": null,
      "outputs": []
    },
    {
      "cell_type": "markdown",
      "metadata": {
        "id": "CigSmARJJS-k"
      },
      "source": [
        "**Part A.  Draw the flag of the United States.**\n",
        "\n",
        "\n",
        "\n",
        "*   Just draw the outline of each shape. No need to fill.\n",
        "*   For the 50 stars, draw 30 (6 x 5) stars that are far apart.  Then draw 20 (5 x 4) stars in between.\n"
      ]
    },
    {
      "cell_type": "code",
      "metadata": {
        "id": "jCo2PnPiJSSV"
      },
      "source": [
        ""
      ],
      "execution_count": null,
      "outputs": []
    },
    {
      "cell_type": "markdown",
      "metadata": {
        "id": "EZetBS4vJhib"
      },
      "source": [
        "**Part B. Draw an artistic scene.**  Use the ColabTurtle to randomly generate different kinds of objects.\n",
        "\n",
        "\n",
        "*   There should be a least 3 kinds of objects, with each kind implemented as a function.  For example, you can have raindrops, buildings and people.\n",
        "*   There should be at least 1000 randomly-generated objects in the image. Use loops!\n",
        "*   For each object, you can randomize the location, size, color or other features of your object.\n",
        "\n",
        "\n",
        "\n",
        "\n",
        "\n",
        "\n"
      ]
    },
    {
      "cell_type": "code",
      "metadata": {
        "id": "-eu4UZcBOblZ"
      },
      "source": [
        ""
      ],
      "execution_count": null,
      "outputs": []
    }
  ]
}