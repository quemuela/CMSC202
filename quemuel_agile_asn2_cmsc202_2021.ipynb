{
  "nbformat": 4,
  "nbformat_minor": 0,
  "metadata": {
    "colab": {
      "name": "quemuel_agile_asn2-cmsc202_2021.ipynb",
      "provenance": [],
      "collapsed_sections": [],
      "include_colab_link": true
    },
    "kernelspec": {
      "name": "python3",
      "display_name": "Python 3"
    },
    "language_info": {
      "name": "python"
    }
  },
  "cells": [
    {
      "cell_type": "markdown",
      "metadata": {
        "id": "view-in-github",
        "colab_type": "text"
      },
      "source": [
        "<a href=\"https://colab.research.google.com/github/quemuela/CMSC202/blob/cmsc202/quemuel_agile_asn2_cmsc202_2021.ipynb\" target=\"_parent\"><img src=\"https://colab.research.google.com/assets/colab-badge.svg\" alt=\"Open In Colab\"/></a>"
      ]
    },
    {
      "cell_type": "markdown",
      "metadata": {
        "id": "Tn5FGFhKHzKc"
      },
      "source": [
        "# **Assignment 2**\n",
        "\n",
        "CMSC 202 (Principles of Programming)  1st Sem, 2021-2022\n",
        "UP Open University\n",
        "\n",
        "Due date:  November 29, 2021\n",
        "\n",
        "\n",
        "**Name:** Agile M. Quemuel\n",
        "\n",
        "**Student number:** 96-25619\n",
        "\n",
        "Instructions 🧑\n",
        "\n",
        "\n",
        "*   Make a copy of this Colab\n",
        "*   On your own copy, add your name to the title of the Colab\n",
        "*   Share it with Sir Vlad (vymariano@up.edu.ph) **with editing permission**\n",
        "\n",
        "\n",
        "Our ColabTurtle reference is https://github.com/tolgaatam/ColabTurtle"
      ]
    },
    {
      "cell_type": "code",
      "metadata": {
        "id": "D_oLHFuWHucu",
        "colab": {
          "base_uri": "https://localhost:8080/"
        },
        "outputId": "0ca24656-cbf6-4c49-ed5f-c545861fb325"
      },
      "source": [
        "# install the ColabTurtle library\n",
        "!pip3 install ColabTurtle"
      ],
      "execution_count": 1,
      "outputs": [
        {
          "output_type": "stream",
          "name": "stdout",
          "text": [
            "Collecting ColabTurtle\n",
            "  Downloading ColabTurtle-2.1.0.tar.gz (6.8 kB)\n",
            "Building wheels for collected packages: ColabTurtle\n",
            "  Building wheel for ColabTurtle (setup.py) ... \u001b[?25l\u001b[?25hdone\n",
            "  Created wheel for ColabTurtle: filename=ColabTurtle-2.1.0-py3-none-any.whl size=7655 sha256=133caabde49802af028f7f482e34220eb4ea523b240c436db5ed719f77e01394\n",
            "  Stored in directory: /root/.cache/pip/wheels/0d/ab/65/cc4478508751448dfb4ecb20a6533082855c227dfce8c13902\n",
            "Successfully built ColabTurtle\n",
            "Installing collected packages: ColabTurtle\n",
            "Successfully installed ColabTurtle-2.1.0\n"
          ]
        }
      ]
    },
    {
      "cell_type": "code",
      "metadata": {
        "id": "bw9fegbhM7cf"
      },
      "source": [
        "# import the necessary functions\n",
        "from ColabTurtle.Turtle import *\n",
        "import random"
      ],
      "execution_count": null,
      "outputs": []
    },
    {
      "cell_type": "markdown",
      "metadata": {
        "id": "CigSmARJJS-k"
      },
      "source": [
        "**Part A.  Draw the flag of the United States.**\n",
        "\n",
        "\n",
        "\n",
        "*   Just draw the outline of each shape. No need to fill.\n",
        "*   For the 50 stars, draw 30 (6 x 5) stars that are far apart.  Then draw 20 (5 x 4) stars in between.\n"
      ]
    },
    {
      "cell_type": "code",
      "metadata": {
        "id": "jCo2PnPiJSSV",
        "colab": {
          "base_uri": "https://localhost:8080/",
          "height": 521
        },
        "outputId": "c78cf748-b8a2-4371-942e-cf4770291f4d"
      },
      "source": [
        "from ColabTurtle.Turtle import *\n",
        "\n",
        "edgeX = 0\n",
        "edgeY = 0\n",
        "spaceOffSet = 30\n",
        "starSize = 15\n",
        "starsBorderHeight = 154\n",
        "starsBorderWidth = 180\n",
        "stripeHeight = 22\n",
        "\n",
        "# initialize turtle graphics\n",
        "def initTurtleGraphics():\n",
        "  initializeTurtle()\n",
        "  bgcolor(\"white\")\n",
        "  color(\"black\")\n",
        "  pensize(1)\n",
        "  speed(13)\n",
        "  penup()\n",
        "  goto(edgeX,edgeY)\n",
        "  ht()\n",
        "\n",
        "def drawRectangle(x,y,height,width):\n",
        "  penup()\n",
        "  goto(x,y)\n",
        "  pendown()\n",
        "  face(0)  \n",
        "  fd(width)\n",
        "  face(90)\n",
        "  fd(height)\n",
        "  face(180)\n",
        "  fd(width)\n",
        "  face(270)\n",
        "  fd(height)\n",
        "\n",
        "def drawStar(x, y, length):    \n",
        "  penup()\n",
        "  goto(x,y)\n",
        "  pendown()\n",
        "  face(0)\n",
        "  right(72)\n",
        "  fd(length)\n",
        "  right(144)\n",
        "  fd(length)\n",
        "  right(144)\n",
        "  fd(length)\n",
        "  right(144)\n",
        "  fd(length)\n",
        "  right(144)\n",
        "  fd(length)\n",
        "\n",
        "def drawStripes():\n",
        "  x = edgeX + spaceOffSet/2\n",
        "  y = edgeY + spaceOffSet/4\n",
        "  for topRow in range(7):    \n",
        "    drawRectangle(x + starsBorderWidth,y,stripeHeight,starsBorderWidth * 2)\n",
        "    y = y + stripeHeight\n",
        "\n",
        "  x = edgeX + spaceOffSet/2\n",
        "  y = gety() + stripeHeight\n",
        "  for topRow in range(6):    \n",
        "    drawRectangle(x,y,stripeHeight,starsBorderWidth * 3)\n",
        "    y = y + stripeHeight \n",
        "\n",
        "\n",
        "def drawBorders():\n",
        "  # border around the stars\n",
        "  # height is 7 * stripe height\n",
        "  drawRectangle(edgeX + spaceOffSet/2,edgeY + spaceOffSet/4,starsBorderHeight,starsBorderWidth)  \n",
        "  # flag borders\n",
        "  # overall height is 13 * stripe height\n",
        "  # this is allow for stripes to be rendered with equal sizes (h) \n",
        "  drawRectangle(edgeX + spaceOffSet/2,edgeY + spaceOffSet/4,starsBorderHeight + (stripeHeight*6),starsBorderWidth * 3)  \n",
        "\n",
        "def drawRowOfStars(x,y,size,offSet,starCount):\n",
        "  colCount = 6  \n",
        "  for col in range(starCount):\n",
        "    drawStar(x,y,size)\n",
        "    x = x + offSet\n",
        "\n",
        "def drawFiftyStars(): \n",
        "  penup()\n",
        "  goto(edgeX,edgeY)    \n",
        "  startX = edgeX + spaceOffSet\n",
        "  startY = edgeY + spaceOffSet \n",
        "\n",
        "  # print 6 stars for even numbered rows\n",
        "  # print 5 for the odd\n",
        "  # rows are 0-8 NOT 1-9\n",
        "\n",
        "  for row in range(9):\n",
        "    if row % 2 == 0:\n",
        "      x = startX\n",
        "      y = gety() + spaceOffSet/2\n",
        "      drawRowOfStars(x,y,starSize,spaceOffSet,6)      \n",
        "    else:\n",
        "      x = startX + spaceOffSet/2\n",
        "      y = gety() + spaceOffSet/2\n",
        "      drawRowOfStars(x,y,starSize,spaceOffSet,5)\n",
        "\n",
        "def drawUSAFlag():  \n",
        "  drawBorders()\n",
        "  drawStripes()\n",
        "  drawFiftyStars()\n",
        "\n",
        "def main():\n",
        "  initTurtleGraphics()\n",
        "  drawUSAFlag()\n",
        "\n",
        "main()\n",
        "\n",
        "\n"
      ],
      "execution_count": 197,
      "outputs": [
        {
          "output_type": "display_data",
          "data": {
            "text/html": [
              "\n",
              "      <svg width=\"800\" height=\"500\">\n",
              "        <rect width=\"100%\" height=\"100%\" fill=\"white\"/>\n",
              "        <line x1=\"15.0\" y1=\"7.5\" x2=\"195.0\" y2=\"7.5\" stroke-linecap=\"round\" style=\"stroke:black;stroke-width:1\"/><line x1=\"195.0\" y1=\"7.5\" x2=\"195.0\" y2=\"161.5\" stroke-linecap=\"round\" style=\"stroke:black;stroke-width:1\"/><line x1=\"195.0\" y1=\"161.5\" x2=\"15.0\" y2=\"161.5\" stroke-linecap=\"round\" style=\"stroke:black;stroke-width:1\"/><line x1=\"15.0\" y1=\"161.5\" x2=\"15.0\" y2=\"7.5\" stroke-linecap=\"round\" style=\"stroke:black;stroke-width:1\"/><line x1=\"15.0\" y1=\"7.5\" x2=\"555.0\" y2=\"7.5\" stroke-linecap=\"round\" style=\"stroke:black;stroke-width:1\"/><line x1=\"555.0\" y1=\"7.5\" x2=\"555.0\" y2=\"293.5\" stroke-linecap=\"round\" style=\"stroke:black;stroke-width:1\"/><line x1=\"555.0\" y1=\"293.5\" x2=\"15.0\" y2=\"293.5\" stroke-linecap=\"round\" style=\"stroke:black;stroke-width:1\"/><line x1=\"15.0\" y1=\"293.5\" x2=\"15.0\" y2=\"7.5\" stroke-linecap=\"round\" style=\"stroke:black;stroke-width:1\"/><line x1=\"195.0\" y1=\"7.5\" x2=\"555.0\" y2=\"7.5\" stroke-linecap=\"round\" style=\"stroke:black;stroke-width:1\"/><line x1=\"555.0\" y1=\"7.5\" x2=\"555.0\" y2=\"29.5\" stroke-linecap=\"round\" style=\"stroke:black;stroke-width:1\"/><line x1=\"555.0\" y1=\"29.5\" x2=\"195.0\" y2=\"29.5\" stroke-linecap=\"round\" style=\"stroke:black;stroke-width:1\"/><line x1=\"195.0\" y1=\"29.5\" x2=\"195.0\" y2=\"7.5\" stroke-linecap=\"round\" style=\"stroke:black;stroke-width:1\"/><line x1=\"195.0\" y1=\"29.5\" x2=\"555.0\" y2=\"29.5\" stroke-linecap=\"round\" style=\"stroke:black;stroke-width:1\"/><line x1=\"555.0\" y1=\"29.5\" x2=\"555.0\" y2=\"51.5\" stroke-linecap=\"round\" style=\"stroke:black;stroke-width:1\"/><line x1=\"555.0\" y1=\"51.5\" x2=\"195.0\" y2=\"51.5\" stroke-linecap=\"round\" style=\"stroke:black;stroke-width:1\"/><line x1=\"195.0\" y1=\"51.5\" x2=\"195.0\" y2=\"29.5\" stroke-linecap=\"round\" style=\"stroke:black;stroke-width:1\"/><line x1=\"195.0\" y1=\"51.5\" x2=\"555.0\" y2=\"51.5\" stroke-linecap=\"round\" style=\"stroke:black;stroke-width:1\"/><line x1=\"555.0\" y1=\"51.5\" x2=\"555.0\" y2=\"73.5\" stroke-linecap=\"round\" style=\"stroke:black;stroke-width:1\"/><line x1=\"555.0\" y1=\"73.5\" x2=\"195.0\" y2=\"73.5\" stroke-linecap=\"round\" style=\"stroke:black;stroke-width:1\"/><line x1=\"195.0\" y1=\"73.5\" x2=\"195.0\" y2=\"51.5\" stroke-linecap=\"round\" style=\"stroke:black;stroke-width:1\"/><line x1=\"195.0\" y1=\"73.5\" x2=\"555.0\" y2=\"73.5\" stroke-linecap=\"round\" style=\"stroke:black;stroke-width:1\"/><line x1=\"555.0\" y1=\"73.5\" x2=\"555.0\" y2=\"95.5\" stroke-linecap=\"round\" style=\"stroke:black;stroke-width:1\"/><line x1=\"555.0\" y1=\"95.5\" x2=\"195.0\" y2=\"95.5\" stroke-linecap=\"round\" style=\"stroke:black;stroke-width:1\"/><line x1=\"195.0\" y1=\"95.5\" x2=\"195.0\" y2=\"73.5\" stroke-linecap=\"round\" style=\"stroke:black;stroke-width:1\"/><line x1=\"195.0\" y1=\"95.5\" x2=\"555.0\" y2=\"95.5\" stroke-linecap=\"round\" style=\"stroke:black;stroke-width:1\"/><line x1=\"555.0\" y1=\"95.5\" x2=\"555.0\" y2=\"117.5\" stroke-linecap=\"round\" style=\"stroke:black;stroke-width:1\"/><line x1=\"555.0\" y1=\"117.5\" x2=\"195.0\" y2=\"117.5\" stroke-linecap=\"round\" style=\"stroke:black;stroke-width:1\"/><line x1=\"195.0\" y1=\"117.5\" x2=\"195.0\" y2=\"95.5\" stroke-linecap=\"round\" style=\"stroke:black;stroke-width:1\"/><line x1=\"195.0\" y1=\"117.5\" x2=\"555.0\" y2=\"117.5\" stroke-linecap=\"round\" style=\"stroke:black;stroke-width:1\"/><line x1=\"555.0\" y1=\"117.5\" x2=\"555.0\" y2=\"139.5\" stroke-linecap=\"round\" style=\"stroke:black;stroke-width:1\"/><line x1=\"555.0\" y1=\"139.5\" x2=\"195.0\" y2=\"139.5\" stroke-linecap=\"round\" style=\"stroke:black;stroke-width:1\"/><line x1=\"195.0\" y1=\"139.5\" x2=\"195.0\" y2=\"117.5\" stroke-linecap=\"round\" style=\"stroke:black;stroke-width:1\"/><line x1=\"195.0\" y1=\"139.5\" x2=\"555.0\" y2=\"139.5\" stroke-linecap=\"round\" style=\"stroke:black;stroke-width:1\"/><line x1=\"555.0\" y1=\"139.5\" x2=\"555.0\" y2=\"161.5\" stroke-linecap=\"round\" style=\"stroke:black;stroke-width:1\"/><line x1=\"555.0\" y1=\"161.5\" x2=\"195.0\" y2=\"161.5\" stroke-linecap=\"round\" style=\"stroke:black;stroke-width:1\"/><line x1=\"195.0\" y1=\"161.5\" x2=\"195.0\" y2=\"139.5\" stroke-linecap=\"round\" style=\"stroke:black;stroke-width:1\"/><line x1=\"15.0\" y1=\"161.5\" x2=\"555.0\" y2=\"161.5\" stroke-linecap=\"round\" style=\"stroke:black;stroke-width:1\"/><line x1=\"555.0\" y1=\"161.5\" x2=\"555.0\" y2=\"183.5\" stroke-linecap=\"round\" style=\"stroke:black;stroke-width:1\"/><line x1=\"555.0\" y1=\"183.5\" x2=\"15.0\" y2=\"183.5\" stroke-linecap=\"round\" style=\"stroke:black;stroke-width:1\"/><line x1=\"15.0\" y1=\"183.5\" x2=\"15.0\" y2=\"161.5\" stroke-linecap=\"round\" style=\"stroke:black;stroke-width:1\"/><line x1=\"15.0\" y1=\"183.5\" x2=\"555.0\" y2=\"183.5\" stroke-linecap=\"round\" style=\"stroke:black;stroke-width:1\"/><line x1=\"555.0\" y1=\"183.5\" x2=\"555.0\" y2=\"205.5\" stroke-linecap=\"round\" style=\"stroke:black;stroke-width:1\"/><line x1=\"555.0\" y1=\"205.5\" x2=\"15.0\" y2=\"205.5\" stroke-linecap=\"round\" style=\"stroke:black;stroke-width:1\"/><line x1=\"15.0\" y1=\"205.5\" x2=\"15.0\" y2=\"183.5\" stroke-linecap=\"round\" style=\"stroke:black;stroke-width:1\"/><line x1=\"15.0\" y1=\"205.5\" x2=\"555.0\" y2=\"205.5\" stroke-linecap=\"round\" style=\"stroke:black;stroke-width:1\"/><line x1=\"555.0\" y1=\"205.5\" x2=\"555.0\" y2=\"227.5\" stroke-linecap=\"round\" style=\"stroke:black;stroke-width:1\"/><line x1=\"555.0\" y1=\"227.5\" x2=\"15.0\" y2=\"227.5\" stroke-linecap=\"round\" style=\"stroke:black;stroke-width:1\"/><line x1=\"15.0\" y1=\"227.5\" x2=\"15.0\" y2=\"205.5\" stroke-linecap=\"round\" style=\"stroke:black;stroke-width:1\"/><line x1=\"15.0\" y1=\"227.5\" x2=\"555.0\" y2=\"227.5\" stroke-linecap=\"round\" style=\"stroke:black;stroke-width:1\"/><line x1=\"555.0\" y1=\"227.5\" x2=\"555.0\" y2=\"249.5\" stroke-linecap=\"round\" style=\"stroke:black;stroke-width:1\"/><line x1=\"555.0\" y1=\"249.5\" x2=\"15.0\" y2=\"249.5\" stroke-linecap=\"round\" style=\"stroke:black;stroke-width:1\"/><line x1=\"15.0\" y1=\"249.5\" x2=\"15.0\" y2=\"227.5\" stroke-linecap=\"round\" style=\"stroke:black;stroke-width:1\"/><line x1=\"15.0\" y1=\"249.5\" x2=\"555.0\" y2=\"249.5\" stroke-linecap=\"round\" style=\"stroke:black;stroke-width:1\"/><line x1=\"555.0\" y1=\"249.5\" x2=\"555.0\" y2=\"271.5\" stroke-linecap=\"round\" style=\"stroke:black;stroke-width:1\"/><line x1=\"555.0\" y1=\"271.5\" x2=\"15.0\" y2=\"271.5\" stroke-linecap=\"round\" style=\"stroke:black;stroke-width:1\"/><line x1=\"15.0\" y1=\"271.5\" x2=\"15.0\" y2=\"249.5\" stroke-linecap=\"round\" style=\"stroke:black;stroke-width:1\"/><line x1=\"15.0\" y1=\"271.5\" x2=\"555.0\" y2=\"271.5\" stroke-linecap=\"round\" style=\"stroke:black;stroke-width:1\"/><line x1=\"555.0\" y1=\"271.5\" x2=\"555.0\" y2=\"293.5\" stroke-linecap=\"round\" style=\"stroke:black;stroke-width:1\"/><line x1=\"555.0\" y1=\"293.5\" x2=\"15.0\" y2=\"293.5\" stroke-linecap=\"round\" style=\"stroke:black;stroke-width:1\"/><line x1=\"15.0\" y1=\"293.5\" x2=\"15.0\" y2=\"271.5\" stroke-linecap=\"round\" style=\"stroke:black;stroke-width:1\"/><line x1=\"30\" y1=\"15.0\" x2=\"34.635\" y2=\"29.266\" stroke-linecap=\"round\" style=\"stroke:black;stroke-width:1\"/><line x1=\"34.635\" y1=\"29.266\" x2=\"22.5\" y2=\"20.449\" stroke-linecap=\"round\" style=\"stroke:black;stroke-width:1\"/><line x1=\"22.5\" y1=\"20.449\" x2=\"37.5\" y2=\"20.449\" stroke-linecap=\"round\" style=\"stroke:black;stroke-width:1\"/><line x1=\"37.5\" y1=\"20.449\" x2=\"25.365\" y2=\"29.266\" stroke-linecap=\"round\" style=\"stroke:black;stroke-width:1\"/><line x1=\"25.365\" y1=\"29.266\" x2=\"30.0\" y2=\"15.0\" stroke-linecap=\"round\" style=\"stroke:black;stroke-width:1\"/><line x1=\"60\" y1=\"15.0\" x2=\"64.635\" y2=\"29.266\" stroke-linecap=\"round\" style=\"stroke:black;stroke-width:1\"/><line x1=\"64.635\" y1=\"29.266\" x2=\"52.5\" y2=\"20.449\" stroke-linecap=\"round\" style=\"stroke:black;stroke-width:1\"/><line x1=\"52.5\" y1=\"20.449\" x2=\"67.5\" y2=\"20.449\" stroke-linecap=\"round\" style=\"stroke:black;stroke-width:1\"/><line x1=\"67.5\" y1=\"20.449\" x2=\"55.365\" y2=\"29.266\" stroke-linecap=\"round\" style=\"stroke:black;stroke-width:1\"/><line x1=\"55.365\" y1=\"29.266\" x2=\"60.0\" y2=\"15.0\" stroke-linecap=\"round\" style=\"stroke:black;stroke-width:1\"/><line x1=\"90\" y1=\"15.0\" x2=\"94.635\" y2=\"29.266\" stroke-linecap=\"round\" style=\"stroke:black;stroke-width:1\"/><line x1=\"94.635\" y1=\"29.266\" x2=\"82.5\" y2=\"20.449\" stroke-linecap=\"round\" style=\"stroke:black;stroke-width:1\"/><line x1=\"82.5\" y1=\"20.449\" x2=\"97.5\" y2=\"20.449\" stroke-linecap=\"round\" style=\"stroke:black;stroke-width:1\"/><line x1=\"97.5\" y1=\"20.449\" x2=\"85.365\" y2=\"29.266\" stroke-linecap=\"round\" style=\"stroke:black;stroke-width:1\"/><line x1=\"85.365\" y1=\"29.266\" x2=\"90.0\" y2=\"15.0\" stroke-linecap=\"round\" style=\"stroke:black;stroke-width:1\"/><line x1=\"120\" y1=\"15.0\" x2=\"124.635\" y2=\"29.266\" stroke-linecap=\"round\" style=\"stroke:black;stroke-width:1\"/><line x1=\"124.635\" y1=\"29.266\" x2=\"112.5\" y2=\"20.449\" stroke-linecap=\"round\" style=\"stroke:black;stroke-width:1\"/><line x1=\"112.5\" y1=\"20.449\" x2=\"127.5\" y2=\"20.449\" stroke-linecap=\"round\" style=\"stroke:black;stroke-width:1\"/><line x1=\"127.5\" y1=\"20.449\" x2=\"115.365\" y2=\"29.266\" stroke-linecap=\"round\" style=\"stroke:black;stroke-width:1\"/><line x1=\"115.365\" y1=\"29.266\" x2=\"120.0\" y2=\"15.0\" stroke-linecap=\"round\" style=\"stroke:black;stroke-width:1\"/><line x1=\"150\" y1=\"15.0\" x2=\"154.635\" y2=\"29.266\" stroke-linecap=\"round\" style=\"stroke:black;stroke-width:1\"/><line x1=\"154.635\" y1=\"29.266\" x2=\"142.5\" y2=\"20.449\" stroke-linecap=\"round\" style=\"stroke:black;stroke-width:1\"/><line x1=\"142.5\" y1=\"20.449\" x2=\"157.5\" y2=\"20.449\" stroke-linecap=\"round\" style=\"stroke:black;stroke-width:1\"/><line x1=\"157.5\" y1=\"20.449\" x2=\"145.365\" y2=\"29.266\" stroke-linecap=\"round\" style=\"stroke:black;stroke-width:1\"/><line x1=\"145.365\" y1=\"29.266\" x2=\"150.0\" y2=\"15.0\" stroke-linecap=\"round\" style=\"stroke:black;stroke-width:1\"/><line x1=\"180\" y1=\"15.0\" x2=\"184.635\" y2=\"29.266\" stroke-linecap=\"round\" style=\"stroke:black;stroke-width:1\"/><line x1=\"184.635\" y1=\"29.266\" x2=\"172.5\" y2=\"20.449\" stroke-linecap=\"round\" style=\"stroke:black;stroke-width:1\"/><line x1=\"172.5\" y1=\"20.449\" x2=\"187.5\" y2=\"20.449\" stroke-linecap=\"round\" style=\"stroke:black;stroke-width:1\"/><line x1=\"187.5\" y1=\"20.449\" x2=\"175.365\" y2=\"29.266\" stroke-linecap=\"round\" style=\"stroke:black;stroke-width:1\"/><line x1=\"175.365\" y1=\"29.266\" x2=\"180.0\" y2=\"15.0\" stroke-linecap=\"round\" style=\"stroke:black;stroke-width:1\"/><line x1=\"45.0\" y1=\"30.0\" x2=\"49.635\" y2=\"44.266\" stroke-linecap=\"round\" style=\"stroke:black;stroke-width:1\"/><line x1=\"49.635\" y1=\"44.266\" x2=\"37.5\" y2=\"35.449\" stroke-linecap=\"round\" style=\"stroke:black;stroke-width:1\"/><line x1=\"37.5\" y1=\"35.449\" x2=\"52.5\" y2=\"35.449\" stroke-linecap=\"round\" style=\"stroke:black;stroke-width:1\"/><line x1=\"52.5\" y1=\"35.449\" x2=\"40.365\" y2=\"44.266\" stroke-linecap=\"round\" style=\"stroke:black;stroke-width:1\"/><line x1=\"40.365\" y1=\"44.266\" x2=\"45.0\" y2=\"30.0\" stroke-linecap=\"round\" style=\"stroke:black;stroke-width:1\"/><line x1=\"75.0\" y1=\"30.0\" x2=\"79.635\" y2=\"44.266\" stroke-linecap=\"round\" style=\"stroke:black;stroke-width:1\"/><line x1=\"79.635\" y1=\"44.266\" x2=\"67.5\" y2=\"35.449\" stroke-linecap=\"round\" style=\"stroke:black;stroke-width:1\"/><line x1=\"67.5\" y1=\"35.449\" x2=\"82.5\" y2=\"35.449\" stroke-linecap=\"round\" style=\"stroke:black;stroke-width:1\"/><line x1=\"82.5\" y1=\"35.449\" x2=\"70.365\" y2=\"44.266\" stroke-linecap=\"round\" style=\"stroke:black;stroke-width:1\"/><line x1=\"70.365\" y1=\"44.266\" x2=\"75.0\" y2=\"30.0\" stroke-linecap=\"round\" style=\"stroke:black;stroke-width:1\"/><line x1=\"105.0\" y1=\"30.0\" x2=\"109.635\" y2=\"44.266\" stroke-linecap=\"round\" style=\"stroke:black;stroke-width:1\"/><line x1=\"109.635\" y1=\"44.266\" x2=\"97.5\" y2=\"35.449\" stroke-linecap=\"round\" style=\"stroke:black;stroke-width:1\"/><line x1=\"97.5\" y1=\"35.449\" x2=\"112.5\" y2=\"35.449\" stroke-linecap=\"round\" style=\"stroke:black;stroke-width:1\"/><line x1=\"112.5\" y1=\"35.449\" x2=\"100.365\" y2=\"44.266\" stroke-linecap=\"round\" style=\"stroke:black;stroke-width:1\"/><line x1=\"100.365\" y1=\"44.266\" x2=\"105.0\" y2=\"30.0\" stroke-linecap=\"round\" style=\"stroke:black;stroke-width:1\"/><line x1=\"135.0\" y1=\"30.0\" x2=\"139.635\" y2=\"44.266\" stroke-linecap=\"round\" style=\"stroke:black;stroke-width:1\"/><line x1=\"139.635\" y1=\"44.266\" x2=\"127.5\" y2=\"35.449\" stroke-linecap=\"round\" style=\"stroke:black;stroke-width:1\"/><line x1=\"127.5\" y1=\"35.449\" x2=\"142.5\" y2=\"35.449\" stroke-linecap=\"round\" style=\"stroke:black;stroke-width:1\"/><line x1=\"142.5\" y1=\"35.449\" x2=\"130.365\" y2=\"44.266\" stroke-linecap=\"round\" style=\"stroke:black;stroke-width:1\"/><line x1=\"130.365\" y1=\"44.266\" x2=\"135.0\" y2=\"30.0\" stroke-linecap=\"round\" style=\"stroke:black;stroke-width:1\"/><line x1=\"165.0\" y1=\"30.0\" x2=\"169.635\" y2=\"44.266\" stroke-linecap=\"round\" style=\"stroke:black;stroke-width:1\"/><line x1=\"169.635\" y1=\"44.266\" x2=\"157.5\" y2=\"35.449\" stroke-linecap=\"round\" style=\"stroke:black;stroke-width:1\"/><line x1=\"157.5\" y1=\"35.449\" x2=\"172.5\" y2=\"35.449\" stroke-linecap=\"round\" style=\"stroke:black;stroke-width:1\"/><line x1=\"172.5\" y1=\"35.449\" x2=\"160.365\" y2=\"44.266\" stroke-linecap=\"round\" style=\"stroke:black;stroke-width:1\"/><line x1=\"160.365\" y1=\"44.266\" x2=\"165.0\" y2=\"30.0\" stroke-linecap=\"round\" style=\"stroke:black;stroke-width:1\"/><line x1=\"30\" y1=\"45.0\" x2=\"34.635\" y2=\"59.266\" stroke-linecap=\"round\" style=\"stroke:black;stroke-width:1\"/><line x1=\"34.635\" y1=\"59.266\" x2=\"22.5\" y2=\"50.449\" stroke-linecap=\"round\" style=\"stroke:black;stroke-width:1\"/><line x1=\"22.5\" y1=\"50.449\" x2=\"37.5\" y2=\"50.449\" stroke-linecap=\"round\" style=\"stroke:black;stroke-width:1\"/><line x1=\"37.5\" y1=\"50.449\" x2=\"25.365\" y2=\"59.266\" stroke-linecap=\"round\" style=\"stroke:black;stroke-width:1\"/><line x1=\"25.365\" y1=\"59.266\" x2=\"30.0\" y2=\"45.0\" stroke-linecap=\"round\" style=\"stroke:black;stroke-width:1\"/><line x1=\"60\" y1=\"45.0\" x2=\"64.635\" y2=\"59.266\" stroke-linecap=\"round\" style=\"stroke:black;stroke-width:1\"/><line x1=\"64.635\" y1=\"59.266\" x2=\"52.5\" y2=\"50.449\" stroke-linecap=\"round\" style=\"stroke:black;stroke-width:1\"/><line x1=\"52.5\" y1=\"50.449\" x2=\"67.5\" y2=\"50.449\" stroke-linecap=\"round\" style=\"stroke:black;stroke-width:1\"/><line x1=\"67.5\" y1=\"50.449\" x2=\"55.365\" y2=\"59.266\" stroke-linecap=\"round\" style=\"stroke:black;stroke-width:1\"/><line x1=\"55.365\" y1=\"59.266\" x2=\"60.0\" y2=\"45.0\" stroke-linecap=\"round\" style=\"stroke:black;stroke-width:1\"/><line x1=\"90\" y1=\"45.0\" x2=\"94.635\" y2=\"59.266\" stroke-linecap=\"round\" style=\"stroke:black;stroke-width:1\"/><line x1=\"94.635\" y1=\"59.266\" x2=\"82.5\" y2=\"50.449\" stroke-linecap=\"round\" style=\"stroke:black;stroke-width:1\"/><line x1=\"82.5\" y1=\"50.449\" x2=\"97.5\" y2=\"50.449\" stroke-linecap=\"round\" style=\"stroke:black;stroke-width:1\"/><line x1=\"97.5\" y1=\"50.449\" x2=\"85.365\" y2=\"59.266\" stroke-linecap=\"round\" style=\"stroke:black;stroke-width:1\"/><line x1=\"85.365\" y1=\"59.266\" x2=\"90.0\" y2=\"45.0\" stroke-linecap=\"round\" style=\"stroke:black;stroke-width:1\"/><line x1=\"120\" y1=\"45.0\" x2=\"124.635\" y2=\"59.266\" stroke-linecap=\"round\" style=\"stroke:black;stroke-width:1\"/><line x1=\"124.635\" y1=\"59.266\" x2=\"112.5\" y2=\"50.449\" stroke-linecap=\"round\" style=\"stroke:black;stroke-width:1\"/><line x1=\"112.5\" y1=\"50.449\" x2=\"127.5\" y2=\"50.449\" stroke-linecap=\"round\" style=\"stroke:black;stroke-width:1\"/><line x1=\"127.5\" y1=\"50.449\" x2=\"115.365\" y2=\"59.266\" stroke-linecap=\"round\" style=\"stroke:black;stroke-width:1\"/><line x1=\"115.365\" y1=\"59.266\" x2=\"120.0\" y2=\"45.0\" stroke-linecap=\"round\" style=\"stroke:black;stroke-width:1\"/><line x1=\"150\" y1=\"45.0\" x2=\"154.635\" y2=\"59.266\" stroke-linecap=\"round\" style=\"stroke:black;stroke-width:1\"/><line x1=\"154.635\" y1=\"59.266\" x2=\"142.5\" y2=\"50.449\" stroke-linecap=\"round\" style=\"stroke:black;stroke-width:1\"/><line x1=\"142.5\" y1=\"50.449\" x2=\"157.5\" y2=\"50.449\" stroke-linecap=\"round\" style=\"stroke:black;stroke-width:1\"/><line x1=\"157.5\" y1=\"50.449\" x2=\"145.365\" y2=\"59.266\" stroke-linecap=\"round\" style=\"stroke:black;stroke-width:1\"/><line x1=\"145.365\" y1=\"59.266\" x2=\"150.0\" y2=\"45.0\" stroke-linecap=\"round\" style=\"stroke:black;stroke-width:1\"/><line x1=\"180\" y1=\"45.0\" x2=\"184.635\" y2=\"59.266\" stroke-linecap=\"round\" style=\"stroke:black;stroke-width:1\"/><line x1=\"184.635\" y1=\"59.266\" x2=\"172.5\" y2=\"50.449\" stroke-linecap=\"round\" style=\"stroke:black;stroke-width:1\"/><line x1=\"172.5\" y1=\"50.449\" x2=\"187.5\" y2=\"50.449\" stroke-linecap=\"round\" style=\"stroke:black;stroke-width:1\"/><line x1=\"187.5\" y1=\"50.449\" x2=\"175.365\" y2=\"59.266\" stroke-linecap=\"round\" style=\"stroke:black;stroke-width:1\"/><line x1=\"175.365\" y1=\"59.266\" x2=\"180.0\" y2=\"45.0\" stroke-linecap=\"round\" style=\"stroke:black;stroke-width:1\"/><line x1=\"45.0\" y1=\"60.0\" x2=\"49.635\" y2=\"74.266\" stroke-linecap=\"round\" style=\"stroke:black;stroke-width:1\"/><line x1=\"49.635\" y1=\"74.266\" x2=\"37.5\" y2=\"65.449\" stroke-linecap=\"round\" style=\"stroke:black;stroke-width:1\"/><line x1=\"37.5\" y1=\"65.449\" x2=\"52.5\" y2=\"65.449\" stroke-linecap=\"round\" style=\"stroke:black;stroke-width:1\"/><line x1=\"52.5\" y1=\"65.449\" x2=\"40.365\" y2=\"74.266\" stroke-linecap=\"round\" style=\"stroke:black;stroke-width:1\"/><line x1=\"40.365\" y1=\"74.266\" x2=\"45.0\" y2=\"60.0\" stroke-linecap=\"round\" style=\"stroke:black;stroke-width:1\"/><line x1=\"75.0\" y1=\"60.0\" x2=\"79.635\" y2=\"74.266\" stroke-linecap=\"round\" style=\"stroke:black;stroke-width:1\"/><line x1=\"79.635\" y1=\"74.266\" x2=\"67.5\" y2=\"65.449\" stroke-linecap=\"round\" style=\"stroke:black;stroke-width:1\"/><line x1=\"67.5\" y1=\"65.449\" x2=\"82.5\" y2=\"65.449\" stroke-linecap=\"round\" style=\"stroke:black;stroke-width:1\"/><line x1=\"82.5\" y1=\"65.449\" x2=\"70.365\" y2=\"74.266\" stroke-linecap=\"round\" style=\"stroke:black;stroke-width:1\"/><line x1=\"70.365\" y1=\"74.266\" x2=\"75.0\" y2=\"60.0\" stroke-linecap=\"round\" style=\"stroke:black;stroke-width:1\"/><line x1=\"105.0\" y1=\"60.0\" x2=\"109.635\" y2=\"74.266\" stroke-linecap=\"round\" style=\"stroke:black;stroke-width:1\"/><line x1=\"109.635\" y1=\"74.266\" x2=\"97.5\" y2=\"65.449\" stroke-linecap=\"round\" style=\"stroke:black;stroke-width:1\"/><line x1=\"97.5\" y1=\"65.449\" x2=\"112.5\" y2=\"65.449\" stroke-linecap=\"round\" style=\"stroke:black;stroke-width:1\"/><line x1=\"112.5\" y1=\"65.449\" x2=\"100.365\" y2=\"74.266\" stroke-linecap=\"round\" style=\"stroke:black;stroke-width:1\"/><line x1=\"100.365\" y1=\"74.266\" x2=\"105.0\" y2=\"60.0\" stroke-linecap=\"round\" style=\"stroke:black;stroke-width:1\"/><line x1=\"135.0\" y1=\"60.0\" x2=\"139.635\" y2=\"74.266\" stroke-linecap=\"round\" style=\"stroke:black;stroke-width:1\"/><line x1=\"139.635\" y1=\"74.266\" x2=\"127.5\" y2=\"65.449\" stroke-linecap=\"round\" style=\"stroke:black;stroke-width:1\"/><line x1=\"127.5\" y1=\"65.449\" x2=\"142.5\" y2=\"65.449\" stroke-linecap=\"round\" style=\"stroke:black;stroke-width:1\"/><line x1=\"142.5\" y1=\"65.449\" x2=\"130.365\" y2=\"74.266\" stroke-linecap=\"round\" style=\"stroke:black;stroke-width:1\"/><line x1=\"130.365\" y1=\"74.266\" x2=\"135.0\" y2=\"60.0\" stroke-linecap=\"round\" style=\"stroke:black;stroke-width:1\"/><line x1=\"165.0\" y1=\"60.0\" x2=\"169.635\" y2=\"74.266\" stroke-linecap=\"round\" style=\"stroke:black;stroke-width:1\"/><line x1=\"169.635\" y1=\"74.266\" x2=\"157.5\" y2=\"65.449\" stroke-linecap=\"round\" style=\"stroke:black;stroke-width:1\"/><line x1=\"157.5\" y1=\"65.449\" x2=\"172.5\" y2=\"65.449\" stroke-linecap=\"round\" style=\"stroke:black;stroke-width:1\"/><line x1=\"172.5\" y1=\"65.449\" x2=\"160.365\" y2=\"74.266\" stroke-linecap=\"round\" style=\"stroke:black;stroke-width:1\"/><line x1=\"160.365\" y1=\"74.266\" x2=\"165.0\" y2=\"60.0\" stroke-linecap=\"round\" style=\"stroke:black;stroke-width:1\"/><line x1=\"30\" y1=\"75.0\" x2=\"34.635\" y2=\"89.266\" stroke-linecap=\"round\" style=\"stroke:black;stroke-width:1\"/><line x1=\"34.635\" y1=\"89.266\" x2=\"22.5\" y2=\"80.449\" stroke-linecap=\"round\" style=\"stroke:black;stroke-width:1\"/><line x1=\"22.5\" y1=\"80.449\" x2=\"37.5\" y2=\"80.449\" stroke-linecap=\"round\" style=\"stroke:black;stroke-width:1\"/><line x1=\"37.5\" y1=\"80.449\" x2=\"25.365\" y2=\"89.266\" stroke-linecap=\"round\" style=\"stroke:black;stroke-width:1\"/><line x1=\"25.365\" y1=\"89.266\" x2=\"30.0\" y2=\"75.0\" stroke-linecap=\"round\" style=\"stroke:black;stroke-width:1\"/><line x1=\"60\" y1=\"75.0\" x2=\"64.635\" y2=\"89.266\" stroke-linecap=\"round\" style=\"stroke:black;stroke-width:1\"/><line x1=\"64.635\" y1=\"89.266\" x2=\"52.5\" y2=\"80.449\" stroke-linecap=\"round\" style=\"stroke:black;stroke-width:1\"/><line x1=\"52.5\" y1=\"80.449\" x2=\"67.5\" y2=\"80.449\" stroke-linecap=\"round\" style=\"stroke:black;stroke-width:1\"/><line x1=\"67.5\" y1=\"80.449\" x2=\"55.365\" y2=\"89.266\" stroke-linecap=\"round\" style=\"stroke:black;stroke-width:1\"/><line x1=\"55.365\" y1=\"89.266\" x2=\"60.0\" y2=\"75.0\" stroke-linecap=\"round\" style=\"stroke:black;stroke-width:1\"/><line x1=\"90\" y1=\"75.0\" x2=\"94.635\" y2=\"89.266\" stroke-linecap=\"round\" style=\"stroke:black;stroke-width:1\"/><line x1=\"94.635\" y1=\"89.266\" x2=\"82.5\" y2=\"80.449\" stroke-linecap=\"round\" style=\"stroke:black;stroke-width:1\"/><line x1=\"82.5\" y1=\"80.449\" x2=\"97.5\" y2=\"80.449\" stroke-linecap=\"round\" style=\"stroke:black;stroke-width:1\"/><line x1=\"97.5\" y1=\"80.449\" x2=\"85.365\" y2=\"89.266\" stroke-linecap=\"round\" style=\"stroke:black;stroke-width:1\"/><line x1=\"85.365\" y1=\"89.266\" x2=\"90.0\" y2=\"75.0\" stroke-linecap=\"round\" style=\"stroke:black;stroke-width:1\"/><line x1=\"120\" y1=\"75.0\" x2=\"124.635\" y2=\"89.266\" stroke-linecap=\"round\" style=\"stroke:black;stroke-width:1\"/><line x1=\"124.635\" y1=\"89.266\" x2=\"112.5\" y2=\"80.449\" stroke-linecap=\"round\" style=\"stroke:black;stroke-width:1\"/><line x1=\"112.5\" y1=\"80.449\" x2=\"127.5\" y2=\"80.449\" stroke-linecap=\"round\" style=\"stroke:black;stroke-width:1\"/><line x1=\"127.5\" y1=\"80.449\" x2=\"115.365\" y2=\"89.266\" stroke-linecap=\"round\" style=\"stroke:black;stroke-width:1\"/><line x1=\"115.365\" y1=\"89.266\" x2=\"120.0\" y2=\"75.0\" stroke-linecap=\"round\" style=\"stroke:black;stroke-width:1\"/><line x1=\"150\" y1=\"75.0\" x2=\"154.635\" y2=\"89.266\" stroke-linecap=\"round\" style=\"stroke:black;stroke-width:1\"/><line x1=\"154.635\" y1=\"89.266\" x2=\"142.5\" y2=\"80.449\" stroke-linecap=\"round\" style=\"stroke:black;stroke-width:1\"/><line x1=\"142.5\" y1=\"80.449\" x2=\"157.5\" y2=\"80.449\" stroke-linecap=\"round\" style=\"stroke:black;stroke-width:1\"/><line x1=\"157.5\" y1=\"80.449\" x2=\"145.365\" y2=\"89.266\" stroke-linecap=\"round\" style=\"stroke:black;stroke-width:1\"/><line x1=\"145.365\" y1=\"89.266\" x2=\"150.0\" y2=\"75.0\" stroke-linecap=\"round\" style=\"stroke:black;stroke-width:1\"/><line x1=\"180\" y1=\"75.0\" x2=\"184.635\" y2=\"89.266\" stroke-linecap=\"round\" style=\"stroke:black;stroke-width:1\"/><line x1=\"184.635\" y1=\"89.266\" x2=\"172.5\" y2=\"80.449\" stroke-linecap=\"round\" style=\"stroke:black;stroke-width:1\"/><line x1=\"172.5\" y1=\"80.449\" x2=\"187.5\" y2=\"80.449\" stroke-linecap=\"round\" style=\"stroke:black;stroke-width:1\"/><line x1=\"187.5\" y1=\"80.449\" x2=\"175.365\" y2=\"89.266\" stroke-linecap=\"round\" style=\"stroke:black;stroke-width:1\"/><line x1=\"175.365\" y1=\"89.266\" x2=\"180.0\" y2=\"75.0\" stroke-linecap=\"round\" style=\"stroke:black;stroke-width:1\"/><line x1=\"45.0\" y1=\"90.0\" x2=\"49.635\" y2=\"104.266\" stroke-linecap=\"round\" style=\"stroke:black;stroke-width:1\"/><line x1=\"49.635\" y1=\"104.266\" x2=\"37.5\" y2=\"95.449\" stroke-linecap=\"round\" style=\"stroke:black;stroke-width:1\"/><line x1=\"37.5\" y1=\"95.449\" x2=\"52.5\" y2=\"95.449\" stroke-linecap=\"round\" style=\"stroke:black;stroke-width:1\"/><line x1=\"52.5\" y1=\"95.449\" x2=\"40.365\" y2=\"104.266\" stroke-linecap=\"round\" style=\"stroke:black;stroke-width:1\"/><line x1=\"40.365\" y1=\"104.266\" x2=\"45.0\" y2=\"90.0\" stroke-linecap=\"round\" style=\"stroke:black;stroke-width:1\"/><line x1=\"75.0\" y1=\"90.0\" x2=\"79.635\" y2=\"104.266\" stroke-linecap=\"round\" style=\"stroke:black;stroke-width:1\"/><line x1=\"79.635\" y1=\"104.266\" x2=\"67.5\" y2=\"95.449\" stroke-linecap=\"round\" style=\"stroke:black;stroke-width:1\"/><line x1=\"67.5\" y1=\"95.449\" x2=\"82.5\" y2=\"95.449\" stroke-linecap=\"round\" style=\"stroke:black;stroke-width:1\"/><line x1=\"82.5\" y1=\"95.449\" x2=\"70.365\" y2=\"104.266\" stroke-linecap=\"round\" style=\"stroke:black;stroke-width:1\"/><line x1=\"70.365\" y1=\"104.266\" x2=\"75.0\" y2=\"90.0\" stroke-linecap=\"round\" style=\"stroke:black;stroke-width:1\"/><line x1=\"105.0\" y1=\"90.0\" x2=\"109.635\" y2=\"104.266\" stroke-linecap=\"round\" style=\"stroke:black;stroke-width:1\"/><line x1=\"109.635\" y1=\"104.266\" x2=\"97.5\" y2=\"95.449\" stroke-linecap=\"round\" style=\"stroke:black;stroke-width:1\"/><line x1=\"97.5\" y1=\"95.449\" x2=\"112.5\" y2=\"95.449\" stroke-linecap=\"round\" style=\"stroke:black;stroke-width:1\"/><line x1=\"112.5\" y1=\"95.449\" x2=\"100.365\" y2=\"104.266\" stroke-linecap=\"round\" style=\"stroke:black;stroke-width:1\"/><line x1=\"100.365\" y1=\"104.266\" x2=\"105.0\" y2=\"90.0\" stroke-linecap=\"round\" style=\"stroke:black;stroke-width:1\"/><line x1=\"135.0\" y1=\"90.0\" x2=\"139.635\" y2=\"104.266\" stroke-linecap=\"round\" style=\"stroke:black;stroke-width:1\"/><line x1=\"139.635\" y1=\"104.266\" x2=\"127.5\" y2=\"95.449\" stroke-linecap=\"round\" style=\"stroke:black;stroke-width:1\"/><line x1=\"127.5\" y1=\"95.449\" x2=\"142.5\" y2=\"95.449\" stroke-linecap=\"round\" style=\"stroke:black;stroke-width:1\"/><line x1=\"142.5\" y1=\"95.449\" x2=\"130.365\" y2=\"104.266\" stroke-linecap=\"round\" style=\"stroke:black;stroke-width:1\"/><line x1=\"130.365\" y1=\"104.266\" x2=\"135.0\" y2=\"90.0\" stroke-linecap=\"round\" style=\"stroke:black;stroke-width:1\"/><line x1=\"165.0\" y1=\"90.0\" x2=\"169.635\" y2=\"104.266\" stroke-linecap=\"round\" style=\"stroke:black;stroke-width:1\"/><line x1=\"169.635\" y1=\"104.266\" x2=\"157.5\" y2=\"95.449\" stroke-linecap=\"round\" style=\"stroke:black;stroke-width:1\"/><line x1=\"157.5\" y1=\"95.449\" x2=\"172.5\" y2=\"95.449\" stroke-linecap=\"round\" style=\"stroke:black;stroke-width:1\"/><line x1=\"172.5\" y1=\"95.449\" x2=\"160.365\" y2=\"104.266\" stroke-linecap=\"round\" style=\"stroke:black;stroke-width:1\"/><line x1=\"160.365\" y1=\"104.266\" x2=\"165.0\" y2=\"90.0\" stroke-linecap=\"round\" style=\"stroke:black;stroke-width:1\"/><line x1=\"30\" y1=\"105.0\" x2=\"34.635\" y2=\"119.266\" stroke-linecap=\"round\" style=\"stroke:black;stroke-width:1\"/><line x1=\"34.635\" y1=\"119.266\" x2=\"22.5\" y2=\"110.449\" stroke-linecap=\"round\" style=\"stroke:black;stroke-width:1\"/><line x1=\"22.5\" y1=\"110.449\" x2=\"37.5\" y2=\"110.449\" stroke-linecap=\"round\" style=\"stroke:black;stroke-width:1\"/><line x1=\"37.5\" y1=\"110.449\" x2=\"25.365\" y2=\"119.266\" stroke-linecap=\"round\" style=\"stroke:black;stroke-width:1\"/><line x1=\"25.365\" y1=\"119.266\" x2=\"30.0\" y2=\"105.0\" stroke-linecap=\"round\" style=\"stroke:black;stroke-width:1\"/><line x1=\"60\" y1=\"105.0\" x2=\"64.635\" y2=\"119.266\" stroke-linecap=\"round\" style=\"stroke:black;stroke-width:1\"/><line x1=\"64.635\" y1=\"119.266\" x2=\"52.5\" y2=\"110.449\" stroke-linecap=\"round\" style=\"stroke:black;stroke-width:1\"/><line x1=\"52.5\" y1=\"110.449\" x2=\"67.5\" y2=\"110.449\" stroke-linecap=\"round\" style=\"stroke:black;stroke-width:1\"/><line x1=\"67.5\" y1=\"110.449\" x2=\"55.365\" y2=\"119.266\" stroke-linecap=\"round\" style=\"stroke:black;stroke-width:1\"/><line x1=\"55.365\" y1=\"119.266\" x2=\"60.0\" y2=\"105.0\" stroke-linecap=\"round\" style=\"stroke:black;stroke-width:1\"/><line x1=\"90\" y1=\"105.0\" x2=\"94.635\" y2=\"119.266\" stroke-linecap=\"round\" style=\"stroke:black;stroke-width:1\"/><line x1=\"94.635\" y1=\"119.266\" x2=\"82.5\" y2=\"110.449\" stroke-linecap=\"round\" style=\"stroke:black;stroke-width:1\"/><line x1=\"82.5\" y1=\"110.449\" x2=\"97.5\" y2=\"110.449\" stroke-linecap=\"round\" style=\"stroke:black;stroke-width:1\"/><line x1=\"97.5\" y1=\"110.449\" x2=\"85.365\" y2=\"119.266\" stroke-linecap=\"round\" style=\"stroke:black;stroke-width:1\"/><line x1=\"85.365\" y1=\"119.266\" x2=\"90.0\" y2=\"105.0\" stroke-linecap=\"round\" style=\"stroke:black;stroke-width:1\"/><line x1=\"120\" y1=\"105.0\" x2=\"124.635\" y2=\"119.266\" stroke-linecap=\"round\" style=\"stroke:black;stroke-width:1\"/><line x1=\"124.635\" y1=\"119.266\" x2=\"112.5\" y2=\"110.449\" stroke-linecap=\"round\" style=\"stroke:black;stroke-width:1\"/><line x1=\"112.5\" y1=\"110.449\" x2=\"127.5\" y2=\"110.449\" stroke-linecap=\"round\" style=\"stroke:black;stroke-width:1\"/><line x1=\"127.5\" y1=\"110.449\" x2=\"115.365\" y2=\"119.266\" stroke-linecap=\"round\" style=\"stroke:black;stroke-width:1\"/><line x1=\"115.365\" y1=\"119.266\" x2=\"120.0\" y2=\"105.0\" stroke-linecap=\"round\" style=\"stroke:black;stroke-width:1\"/><line x1=\"150\" y1=\"105.0\" x2=\"154.635\" y2=\"119.266\" stroke-linecap=\"round\" style=\"stroke:black;stroke-width:1\"/><line x1=\"154.635\" y1=\"119.266\" x2=\"142.5\" y2=\"110.449\" stroke-linecap=\"round\" style=\"stroke:black;stroke-width:1\"/><line x1=\"142.5\" y1=\"110.449\" x2=\"157.5\" y2=\"110.449\" stroke-linecap=\"round\" style=\"stroke:black;stroke-width:1\"/><line x1=\"157.5\" y1=\"110.449\" x2=\"145.365\" y2=\"119.266\" stroke-linecap=\"round\" style=\"stroke:black;stroke-width:1\"/><line x1=\"145.365\" y1=\"119.266\" x2=\"150.0\" y2=\"105.0\" stroke-linecap=\"round\" style=\"stroke:black;stroke-width:1\"/><line x1=\"180\" y1=\"105.0\" x2=\"184.635\" y2=\"119.266\" stroke-linecap=\"round\" style=\"stroke:black;stroke-width:1\"/><line x1=\"184.635\" y1=\"119.266\" x2=\"172.5\" y2=\"110.449\" stroke-linecap=\"round\" style=\"stroke:black;stroke-width:1\"/><line x1=\"172.5\" y1=\"110.449\" x2=\"187.5\" y2=\"110.449\" stroke-linecap=\"round\" style=\"stroke:black;stroke-width:1\"/><line x1=\"187.5\" y1=\"110.449\" x2=\"175.365\" y2=\"119.266\" stroke-linecap=\"round\" style=\"stroke:black;stroke-width:1\"/><line x1=\"175.365\" y1=\"119.266\" x2=\"180.0\" y2=\"105.0\" stroke-linecap=\"round\" style=\"stroke:black;stroke-width:1\"/><line x1=\"45.0\" y1=\"120.0\" x2=\"49.635\" y2=\"134.266\" stroke-linecap=\"round\" style=\"stroke:black;stroke-width:1\"/><line x1=\"49.635\" y1=\"134.266\" x2=\"37.5\" y2=\"125.449\" stroke-linecap=\"round\" style=\"stroke:black;stroke-width:1\"/><line x1=\"37.5\" y1=\"125.449\" x2=\"52.5\" y2=\"125.449\" stroke-linecap=\"round\" style=\"stroke:black;stroke-width:1\"/><line x1=\"52.5\" y1=\"125.449\" x2=\"40.365\" y2=\"134.266\" stroke-linecap=\"round\" style=\"stroke:black;stroke-width:1\"/><line x1=\"40.365\" y1=\"134.266\" x2=\"45.0\" y2=\"120.0\" stroke-linecap=\"round\" style=\"stroke:black;stroke-width:1\"/><line x1=\"75.0\" y1=\"120.0\" x2=\"79.635\" y2=\"134.266\" stroke-linecap=\"round\" style=\"stroke:black;stroke-width:1\"/><line x1=\"79.635\" y1=\"134.266\" x2=\"67.5\" y2=\"125.449\" stroke-linecap=\"round\" style=\"stroke:black;stroke-width:1\"/><line x1=\"67.5\" y1=\"125.449\" x2=\"82.5\" y2=\"125.449\" stroke-linecap=\"round\" style=\"stroke:black;stroke-width:1\"/><line x1=\"82.5\" y1=\"125.449\" x2=\"70.365\" y2=\"134.266\" stroke-linecap=\"round\" style=\"stroke:black;stroke-width:1\"/><line x1=\"70.365\" y1=\"134.266\" x2=\"75.0\" y2=\"120.0\" stroke-linecap=\"round\" style=\"stroke:black;stroke-width:1\"/><line x1=\"105.0\" y1=\"120.0\" x2=\"109.635\" y2=\"134.266\" stroke-linecap=\"round\" style=\"stroke:black;stroke-width:1\"/><line x1=\"109.635\" y1=\"134.266\" x2=\"97.5\" y2=\"125.449\" stroke-linecap=\"round\" style=\"stroke:black;stroke-width:1\"/><line x1=\"97.5\" y1=\"125.449\" x2=\"112.5\" y2=\"125.449\" stroke-linecap=\"round\" style=\"stroke:black;stroke-width:1\"/><line x1=\"112.5\" y1=\"125.449\" x2=\"100.365\" y2=\"134.266\" stroke-linecap=\"round\" style=\"stroke:black;stroke-width:1\"/><line x1=\"100.365\" y1=\"134.266\" x2=\"105.0\" y2=\"120.0\" stroke-linecap=\"round\" style=\"stroke:black;stroke-width:1\"/><line x1=\"135.0\" y1=\"120.0\" x2=\"139.635\" y2=\"134.266\" stroke-linecap=\"round\" style=\"stroke:black;stroke-width:1\"/><line x1=\"139.635\" y1=\"134.266\" x2=\"127.5\" y2=\"125.449\" stroke-linecap=\"round\" style=\"stroke:black;stroke-width:1\"/><line x1=\"127.5\" y1=\"125.449\" x2=\"142.5\" y2=\"125.449\" stroke-linecap=\"round\" style=\"stroke:black;stroke-width:1\"/><line x1=\"142.5\" y1=\"125.449\" x2=\"130.365\" y2=\"134.266\" stroke-linecap=\"round\" style=\"stroke:black;stroke-width:1\"/><line x1=\"130.365\" y1=\"134.266\" x2=\"135.0\" y2=\"120.0\" stroke-linecap=\"round\" style=\"stroke:black;stroke-width:1\"/><line x1=\"165.0\" y1=\"120.0\" x2=\"169.635\" y2=\"134.266\" stroke-linecap=\"round\" style=\"stroke:black;stroke-width:1\"/><line x1=\"169.635\" y1=\"134.266\" x2=\"157.5\" y2=\"125.449\" stroke-linecap=\"round\" style=\"stroke:black;stroke-width:1\"/><line x1=\"157.5\" y1=\"125.449\" x2=\"172.5\" y2=\"125.449\" stroke-linecap=\"round\" style=\"stroke:black;stroke-width:1\"/><line x1=\"172.5\" y1=\"125.449\" x2=\"160.365\" y2=\"134.266\" stroke-linecap=\"round\" style=\"stroke:black;stroke-width:1\"/><line x1=\"160.365\" y1=\"134.266\" x2=\"165.0\" y2=\"120.0\" stroke-linecap=\"round\" style=\"stroke:black;stroke-width:1\"/><line x1=\"30\" y1=\"135.0\" x2=\"34.635\" y2=\"149.266\" stroke-linecap=\"round\" style=\"stroke:black;stroke-width:1\"/><line x1=\"34.635\" y1=\"149.266\" x2=\"22.5\" y2=\"140.449\" stroke-linecap=\"round\" style=\"stroke:black;stroke-width:1\"/><line x1=\"22.5\" y1=\"140.449\" x2=\"37.5\" y2=\"140.449\" stroke-linecap=\"round\" style=\"stroke:black;stroke-width:1\"/><line x1=\"37.5\" y1=\"140.449\" x2=\"25.365\" y2=\"149.266\" stroke-linecap=\"round\" style=\"stroke:black;stroke-width:1\"/><line x1=\"25.365\" y1=\"149.266\" x2=\"30.0\" y2=\"135.0\" stroke-linecap=\"round\" style=\"stroke:black;stroke-width:1\"/><line x1=\"60\" y1=\"135.0\" x2=\"64.635\" y2=\"149.266\" stroke-linecap=\"round\" style=\"stroke:black;stroke-width:1\"/><line x1=\"64.635\" y1=\"149.266\" x2=\"52.5\" y2=\"140.449\" stroke-linecap=\"round\" style=\"stroke:black;stroke-width:1\"/><line x1=\"52.5\" y1=\"140.449\" x2=\"67.5\" y2=\"140.449\" stroke-linecap=\"round\" style=\"stroke:black;stroke-width:1\"/><line x1=\"67.5\" y1=\"140.449\" x2=\"55.365\" y2=\"149.266\" stroke-linecap=\"round\" style=\"stroke:black;stroke-width:1\"/><line x1=\"55.365\" y1=\"149.266\" x2=\"60.0\" y2=\"135.0\" stroke-linecap=\"round\" style=\"stroke:black;stroke-width:1\"/><line x1=\"90\" y1=\"135.0\" x2=\"94.635\" y2=\"149.266\" stroke-linecap=\"round\" style=\"stroke:black;stroke-width:1\"/><line x1=\"94.635\" y1=\"149.266\" x2=\"82.5\" y2=\"140.449\" stroke-linecap=\"round\" style=\"stroke:black;stroke-width:1\"/><line x1=\"82.5\" y1=\"140.449\" x2=\"97.5\" y2=\"140.449\" stroke-linecap=\"round\" style=\"stroke:black;stroke-width:1\"/><line x1=\"97.5\" y1=\"140.449\" x2=\"85.365\" y2=\"149.266\" stroke-linecap=\"round\" style=\"stroke:black;stroke-width:1\"/><line x1=\"85.365\" y1=\"149.266\" x2=\"90.0\" y2=\"135.0\" stroke-linecap=\"round\" style=\"stroke:black;stroke-width:1\"/><line x1=\"120\" y1=\"135.0\" x2=\"124.635\" y2=\"149.266\" stroke-linecap=\"round\" style=\"stroke:black;stroke-width:1\"/><line x1=\"124.635\" y1=\"149.266\" x2=\"112.5\" y2=\"140.449\" stroke-linecap=\"round\" style=\"stroke:black;stroke-width:1\"/><line x1=\"112.5\" y1=\"140.449\" x2=\"127.5\" y2=\"140.449\" stroke-linecap=\"round\" style=\"stroke:black;stroke-width:1\"/><line x1=\"127.5\" y1=\"140.449\" x2=\"115.365\" y2=\"149.266\" stroke-linecap=\"round\" style=\"stroke:black;stroke-width:1\"/><line x1=\"115.365\" y1=\"149.266\" x2=\"120.0\" y2=\"135.0\" stroke-linecap=\"round\" style=\"stroke:black;stroke-width:1\"/><line x1=\"150\" y1=\"135.0\" x2=\"154.635\" y2=\"149.266\" stroke-linecap=\"round\" style=\"stroke:black;stroke-width:1\"/><line x1=\"154.635\" y1=\"149.266\" x2=\"142.5\" y2=\"140.449\" stroke-linecap=\"round\" style=\"stroke:black;stroke-width:1\"/><line x1=\"142.5\" y1=\"140.449\" x2=\"157.5\" y2=\"140.449\" stroke-linecap=\"round\" style=\"stroke:black;stroke-width:1\"/><line x1=\"157.5\" y1=\"140.449\" x2=\"145.365\" y2=\"149.266\" stroke-linecap=\"round\" style=\"stroke:black;stroke-width:1\"/><line x1=\"145.365\" y1=\"149.266\" x2=\"150.0\" y2=\"135.0\" stroke-linecap=\"round\" style=\"stroke:black;stroke-width:1\"/><line x1=\"180\" y1=\"135.0\" x2=\"184.635\" y2=\"149.266\" stroke-linecap=\"round\" style=\"stroke:black;stroke-width:1\"/><line x1=\"184.635\" y1=\"149.266\" x2=\"172.5\" y2=\"140.449\" stroke-linecap=\"round\" style=\"stroke:black;stroke-width:1\"/><line x1=\"172.5\" y1=\"140.449\" x2=\"187.5\" y2=\"140.449\" stroke-linecap=\"round\" style=\"stroke:black;stroke-width:1\"/><line x1=\"187.5\" y1=\"140.449\" x2=\"175.365\" y2=\"149.266\" stroke-linecap=\"round\" style=\"stroke:black;stroke-width:1\"/><line x1=\"175.365\" y1=\"149.266\" x2=\"180.0\" y2=\"135.0\" stroke-linecap=\"round\" style=\"stroke:black;stroke-width:1\"/>\n",
              "        <g visibility=hidden transform=\"rotate(378,180.0,135.0) translate(162.0, 117.0)\">\n",
              "<path style=\" stroke:none;fill-rule:evenodd;fill:black;fill-opacity:1;\" d=\"M 18.214844 0.632812 C 16.109375 1.800781 15.011719 4.074219 15.074219 7.132812 L 15.085938 7.652344 L 14.785156 7.496094 C 13.476562 6.824219 11.957031 6.671875 10.40625 7.066406 C 8.46875 7.550781 6.515625 9.15625 4.394531 11.992188 C 3.0625 13.777344 2.679688 14.636719 3.042969 15.027344 L 3.15625 15.152344 L 3.519531 15.152344 C 4.238281 15.152344 4.828125 14.886719 8.1875 13.039062 C 9.386719 12.378906 10.371094 11.839844 10.378906 11.839844 C 10.386719 11.839844 10.355469 11.929688 10.304688 12.035156 C 9.832031 13.09375 9.257812 14.820312 8.96875 16.078125 C 7.914062 20.652344 8.617188 24.53125 11.070312 27.660156 C 11.351562 28.015625 11.363281 27.914062 10.972656 28.382812 C 8.925781 30.84375 7.945312 33.28125 8.238281 35.1875 C 8.289062 35.527344 8.28125 35.523438 8.917969 35.523438 C 10.941406 35.523438 13.074219 34.207031 15.136719 31.6875 C 15.359375 31.417969 15.328125 31.425781 15.5625 31.574219 C 16.292969 32.042969 18.023438 32.964844 18.175781 32.964844 C 18.335938 32.964844 19.941406 32.210938 20.828125 31.71875 C 20.996094 31.625 21.136719 31.554688 21.136719 31.558594 C 21.203125 31.664062 21.898438 32.414062 22.222656 32.730469 C 23.835938 34.300781 25.5625 35.132812 27.582031 35.300781 C 27.90625 35.328125 27.9375 35.308594 28.007812 34.984375 C 28.382812 33.242188 27.625 30.925781 25.863281 28.425781 L 25.542969 27.96875 L 25.699219 27.785156 C 28.945312 23.960938 29.132812 18.699219 26.257812 11.96875 L 26.207031 11.84375 L 27.945312 12.703125 C 31.53125 14.476562 32.316406 14.800781 33.03125 14.800781 C 33.976562 14.800781 33.78125 13.9375 32.472656 12.292969 C 28.519531 7.355469 25.394531 5.925781 21.921875 7.472656 L 21.558594 7.636719 L 21.578125 7.542969 C 21.699219 6.992188 21.761719 5.742188 21.699219 5.164062 C 21.496094 3.296875 20.664062 1.964844 19.003906 0.855469 C 18.480469 0.503906 18.457031 0.5 18.214844 0.632812\"/>\n",
              "</g>\n",
              "      </svg>\n",
              "    "
            ],
            "text/plain": [
              "<IPython.core.display.HTML object>"
            ]
          },
          "metadata": {}
        }
      ]
    },
    {
      "cell_type": "markdown",
      "metadata": {
        "id": "EZetBS4vJhib"
      },
      "source": [
        "**Part B. Draw an artistic scene.**  Use the ColabTurtle to randomly generate different kinds of objects.\n",
        "\n",
        "\n",
        "*   There should be a least 3 kinds of objects, with each kind implemented as a function.  For example, you can have raindrops, buildings and people.\n",
        "*   There should be at least 1000 randomly-generated objects in the image. Use loops!\n",
        "*   For each object, you can randomize the location, size, color or other features of your object.\n",
        "\n",
        "\n",
        "\n",
        "\n",
        "\n",
        "\n"
      ]
    },
    {
      "cell_type": "code",
      "metadata": {
        "id": "-eu4UZcBOblZ"
      },
      "source": [
        ""
      ],
      "execution_count": null,
      "outputs": []
    }
  ]
}